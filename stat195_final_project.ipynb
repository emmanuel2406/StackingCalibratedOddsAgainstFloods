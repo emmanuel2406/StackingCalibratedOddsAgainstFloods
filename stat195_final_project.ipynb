{
  "cells": [
    {
      "cell_type": "code",
      "execution_count": null,
      "metadata": {
        "colab": {
          "base_uri": "https://localhost:8080/"
        },
        "id": "djh0GfdBcGGT",
        "outputId": "20fcce7d-0524-44b6-a860-7da1b81e2e16"
      },
      "outputs": [
        {
          "name": "stdout",
          "output_type": "stream",
          "text": [
            "Requirement already satisfied: kagglehub in /usr/local/lib/python3.11/dist-packages (0.3.12)\n",
            "Requirement already satisfied: packaging in /usr/local/lib/python3.11/dist-packages (from kagglehub) (24.2)\n",
            "Requirement already satisfied: pyyaml in /usr/local/lib/python3.11/dist-packages (from kagglehub) (6.0.2)\n",
            "Requirement already satisfied: requests in /usr/local/lib/python3.11/dist-packages (from kagglehub) (2.32.3)\n",
            "Requirement already satisfied: tqdm in /usr/local/lib/python3.11/dist-packages (from kagglehub) (4.67.1)\n",
            "Requirement already satisfied: charset-normalizer<4,>=2 in /usr/local/lib/python3.11/dist-packages (from requests->kagglehub) (3.4.1)\n",
            "Requirement already satisfied: idna<4,>=2.5 in /usr/local/lib/python3.11/dist-packages (from requests->kagglehub) (3.10)\n",
            "Requirement already satisfied: urllib3<3,>=1.21.1 in /usr/local/lib/python3.11/dist-packages (from requests->kagglehub) (2.4.0)\n",
            "Requirement already satisfied: certifi>=2017.4.17 in /usr/local/lib/python3.11/dist-packages (from requests->kagglehub) (2025.4.26)\n"
          ]
        }
      ],
      "source": [
        "%pip install kagglehub"
      ]
    },
    {
      "cell_type": "code",
      "execution_count": null,
      "metadata": {
        "id": "iIIdLkK-b58K"
      },
      "outputs": [],
      "source": [
        "%load_ext autoreload\n",
        "%autoreload 2"
      ]
    },
    {
      "cell_type": "code",
      "execution_count": null,
      "metadata": {
        "id": "FZjnbf-BV4-z"
      },
      "outputs": [],
      "source": [
        "SEED = 101 # for reproducibility"
      ]
    },
    {
      "cell_type": "code",
      "execution_count": null,
      "metadata": {
        "colab": {
          "base_uri": "https://localhost:8080/"
        },
        "id": "XTaoXkDIWK_2",
        "outputId": "8726b1e8-810b-4076-8f5d-d04fc44142a5"
      },
      "outputs": [
        {
          "name": "stdout",
          "output_type": "stream",
          "text": [
            "Downloading from https://www.kaggle.com/api/v1/datasets/download/apurboshahidshawon/weatherdatabangladesh?dataset_version_number=2...\n"
          ]
        },
        {
          "name": "stderr",
          "output_type": "stream",
          "text": [
            "100%|██████████| 89.7k/89.7k [00:00<00:00, 44.5MB/s]"
          ]
        },
        {
          "name": "stdout",
          "output_type": "stream",
          "text": [
            "Extracting files...\n",
            "/root/.cache/kagglehub/datasets/apurboshahidshawon/weatherdatabangladesh/versions/2\n"
          ]
        },
        {
          "name": "stderr",
          "output_type": "stream",
          "text": [
            "\n"
          ]
        }
      ],
      "source": [
        "import kagglehub\n",
        "\n",
        "path = kagglehub.dataset_download(\"apurboshahidshawon/weatherdatabangladesh\")\n",
        "print(path)"
      ]
    },
    {
      "cell_type": "code",
      "execution_count": null,
      "metadata": {
        "id": "Gm62-Wa1cBVZ"
      },
      "outputs": [],
      "source": [
        "import pandas as pd\n",
        "import numpy as np\n",
        "import matplotlib.pyplot as plt\n",
        "import os\n",
        "\n",
        "file_name = os.path.join(path, \"Weather_Data.csv\")\n",
        "df = pd.read_csv(file_name)"
      ]
    },
    {
      "cell_type": "code",
      "execution_count": null,
      "metadata": {
        "colab": {
          "base_uri": "https://localhost:8080/"
        },
        "id": "h_TAkES9JrWC",
        "outputId": "bc5ce80c-198e-475b-af92-93c4180155cf"
      },
      "outputs": [
        {
          "name": "stdout",
          "output_type": "stream",
          "text": [
            "849 2422\n"
          ]
        }
      ],
      "source": [
        "# Can already get 75% accuracy by just predicting no --> really high precision\n",
        "print(sum(df['RainToday'] == 'Yes'), sum(df['RainToday'] == 'No'))\n"
      ]
    },
    {
      "cell_type": "markdown",
      "metadata": {
        "id": "OIzZdyyci8tV"
      },
      "source": [
        "# Standardizing the data"
      ]
    },
    {
      "cell_type": "code",
      "execution_count": null,
      "metadata": {
        "id": "CzycNV9pdXpt"
      },
      "outputs": [],
      "source": [
        "from sklearn.preprocessing import StandardScaler\n",
        "from sklearn.model_selection import train_test_split\n",
        "\n",
        "def scale(train_features, test_features) -> None:\n",
        "  sc = StandardScaler()\n",
        "  train_scaled = sc.fit_transform(train_features)\n",
        "  test_scaled = sc.transform(test_features)\n",
        "  return train_scaled, test_scaled\n",
        "\n",
        "\n",
        "def preprocessing(df, target_feature):\n",
        "    df = df.copy()\n",
        "    df.drop('Date', axis=1, inplace=True)\n",
        "    df['AvgTemp'] = (df['MinTemp'] + df['MaxTemp'] + df['Temp9am'] + df['Temp3pm']) / 4\n",
        "    if target_feature == 'RainToday':\n",
        "        df.drop('Rainfall', axis=1, inplace=True)\n",
        "    df['RainToday'] = df['RainToday'].replace({'No': 0, 'Yes': 1})\n",
        "    df = pd.get_dummies(df)\n",
        "\n",
        "    labels = np.array(df[target_feature])\n",
        "    features = np.array(df.drop(target_feature, axis=1))\n",
        "\n",
        "    train_features, test_features, train_labels, test_labels = train_test_split(\n",
        "        features, labels, test_size=0.35, random_state=SEED\n",
        "    )\n",
        "\n",
        "    train_features, test_features = scale(train_features, test_features)\n",
        "\n",
        "    return train_features, test_features, train_labels, test_labels\n"
      ]
    },
    {
      "cell_type": "code",
      "execution_count": null,
      "metadata": {
        "colab": {
          "base_uri": "https://localhost:8080/"
        },
        "id": "ACXxviytjM3X",
        "outputId": "c7332620-ba0e-4c5b-f87d-db89ecbf1387"
      },
      "outputs": [
        {
          "name": "stderr",
          "output_type": "stream",
          "text": [
            "<ipython-input-8-3c7ed89b9853>:17: FutureWarning: Downcasting behavior in `replace` is deprecated and will be removed in a future version. To retain the old behavior, explicitly call `result.infer_objects(copy=False)`. To opt-in to the future behavior, set `pd.set_option('future.no_silent_downcasting', True)`\n",
            "  df['RainToday'] = df['RainToday'].replace({'No': 0, 'Yes': 1})\n"
          ]
        }
      ],
      "source": [
        "train_features, test_features, train_labels, test_labels = preprocessing(df, 'RainToday')"
      ]
    },
    {
      "cell_type": "markdown",
      "metadata": {
        "id": "OglkpHoX8b3Z"
      },
      "source": [
        "# Custom Model Wrapper"
      ]
    },
    {
      "cell_type": "code",
      "execution_count": null,
      "metadata": {
        "id": "cBEyDzpreNWT"
      },
      "outputs": [],
      "source": [
        "class MetricResult():\n",
        "  def __init__(self, predictions, labels, name: str):\n",
        "    assert(len(predictions) == len(labels))\n",
        "    self.accuracy = np.sum(predictions == labels) / len(labels)\n",
        "    self.precision = np.sum((predictions == 1) & (labels == 1)) / np.sum(predictions == 1)\n",
        "    self.recall = np.sum((predictions == 1) & (labels == 1)) / np.sum(labels == 1)\n",
        "    self.f1_score = 2 * (self.precision * self.recall) / (self.precision + self.recall)\n",
        "    self.name = name\n",
        "\n",
        "  def __str__(self):\n",
        "    return f\"Results for {self.name}\\nAccuracy: {self.accuracy}\\nPrecision: {self.precision}\\nRecall: {self.recall}\\nF1 Score: {self.f1_score}\\n\""
      ]
    },
    {
      "cell_type": "markdown",
      "metadata": {},
      "source": [
        "Note: first run the angular calibration cell"
      ]
    },
    {
      "cell_type": "code",
      "execution_count": null,
      "metadata": {
        "id": "O-R_vdJno32S"
      },
      "outputs": [],
      "source": [
        "from typing import Optional\n",
        "def wrap_calibration(raw_model, calibrated_method: Optional[str]):\n",
        "  if calibrated_method is None:\n",
        "      return raw_model\n",
        "  if calibrated_method == \"sigmoid\" or calibrated_method == \"isotonic\":\n",
        "      return CalibratedClassifierCV(raw_model, method=calibrated_method)\n",
        "  if calibrated_method == \"angular\":\n",
        "      return AngularCalibrator(raw_model)\n",
        "  raise NotImplementedError(f\"Calibration method {calibrated_method} not implemented\")"
      ]
    },
    {
      "cell_type": "code",
      "execution_count": null,
      "metadata": {
        "id": "gAQ0TzaFZZrv"
      },
      "outputs": [],
      "source": [
        "from sklearn.calibration import CalibratedClassifierCV, CalibrationDisplay, calibration_curve\n",
        "\n",
        "class BaseLearner():\n",
        "  def __init__(self, name, model, train_features, test_features, train_labels, test_labels, calibrated_method=None):\n",
        "      self.name = name\n",
        "      self.raw_model = model\n",
        "      if calibrated_method is not None:\n",
        "        self.name = self.name + f\" with {calibrated_method} calibration\"\n",
        "        self.model = wrap_calibration(model, calibrated_method)\n",
        "      else:\n",
        "        self.model = self.raw_model\n",
        "      self.train_features = train_features\n",
        "      self.test_features = test_features\n",
        "      self.train_labels = train_labels\n",
        "      self.test_labels = test_labels\n",
        "      self.trained = False\n",
        "      self.predictions = None\n",
        "\n",
        "  def fit(self):\n",
        "      if isinstance(self.model, AngularCalibrator):\n",
        "          # reserve 20% train set for sign estimation\n",
        "          n = len(self.train_features)\n",
        "          split = int(0.8 * n)\n",
        "          X_tr, y_tr = self.train_features[:split], self.train_labels[:split]\n",
        "          X_sign, y_sign = self.train_features[split:], self.train_labels[split:]\n",
        "          self.model.fit(X_tr, y_tr, X_sign=X_sign, y_sign=y_sign)\n",
        "      else:\n",
        "          self.model.fit(self.train_features, self.train_labels)\n",
        "      self.trained = True\n",
        "\n",
        "  def predict(self):\n",
        "      if not self.trained:\n",
        "        self.fit()\n",
        "      return self.model.predict(self.test_features)\n",
        "\n",
        "  def run_and_score(self)->MetricResult:\n",
        "      if self.predictions is None:\n",
        "        self.predictions = self.predict()\n",
        "      return MetricResult(self.predictions, self.test_labels, self.name)\n",
        "\n",
        "  def display_reliability(self, n_bins=10):\n",
        "    if not self.trained:\n",
        "        self.fit()\n",
        "        self.trained = True\n",
        "\n",
        "    y_prob = self.model.predict_proba(self.test_features)[:, 1]\n",
        "    prob_true, prob_pred = calibration_curve(self.test_labels, y_prob, n_bins=n_bins)\n",
        "\n",
        "    plt.figure(figsize=(6, 6))\n",
        "    # Plot the perfect calibration line\n",
        "    plt.plot([0, 1], [0, 1], linestyle=\"--\", color=\"gray\")\n",
        "\n",
        "    # Plot your model's calibration curve\n",
        "    plt.plot(prob_pred, prob_true, marker='o', color=\"#A51C30\", linewidth=2.5)\n",
        "\n",
        "    plt.xlabel(\"Mean predicted probability\", fontsize=17)\n",
        "    plt.ylabel(\"Fraction of positives\", fontsize=17)\n",
        "\n",
        "    plt.grid(True)\n",
        "    plt.tight_layout()\n",
        "    plt.savefig(f\"{self.name}.png\")\n",
        "    plt.close()\n"
      ]
    },
    {
      "cell_type": "code",
      "execution_count": null,
      "metadata": {
        "id": "fFC2DLJjjksu"
      },
      "outputs": [],
      "source": [
        "from sklearn.linear_model import LogisticRegression, PassiveAggressiveClassifier, Perceptron, RidgeClassifier\n",
        "from sklearn.neighbors import KNeighborsClassifier\n",
        "from sklearn.tree import DecisionTreeClassifier\n",
        "from sklearn.svm import SVC\n",
        "from sklearn.ensemble import RandomForestClassifier\n",
        "\n",
        "\n",
        "MODELS = {\n",
        "    \"LogReg\": LogisticRegression(max_iter=1000000, random_state=SEED),\n",
        "    \"KNN\": KNeighborsClassifier(n_neighbors=11, weights='distance'),\n",
        "    \"DT\": DecisionTreeClassifier(random_state = SEED),\n",
        "    \"SVC\": SVC(kernel='linear', probability=True, random_state=SEED),\n",
        "    \"RF\": RandomForestClassifier(n_estimators = 900, random_state = SEED),\n",
        "    \"PAC\": PassiveAggressiveClassifier(max_iter=1000000, random_state=SEED),\n",
        "    \"RC\": RidgeClassifier(max_iter=1000000, random_state=SEED),\n",
        "    \"Perceptron\": Perceptron(random_state=SEED)\n",
        "}\n",
        "OG_MODELS = {name: MODELS[name] for name in [\"LogReg\", \"KNN\", \"DT\", \"SVC\", \"RF\"]}"
      ]
    },
    {
      "cell_type": "markdown",
      "metadata": {
        "id": "12ReILn-yimP"
      },
      "source": [
        "# Base Learner Experiments"
      ]
    },
    {
      "cell_type": "code",
      "execution_count": null,
      "metadata": {
        "colab": {
          "base_uri": "https://localhost:8080/"
        },
        "id": "aqpuDupuaW7t",
        "outputId": "6824245f-e915-44e8-b0a6-1dcbbd074bb2"
      },
      "outputs": [
        {
          "name": "stdout",
          "output_type": "stream",
          "text": [
            "Results for Logistic Regression\n",
            "Accuracy: 0.8218340611353712\n",
            "Precision: 0.70995670995671\n",
            "Recall: 0.5448504983388704\n",
            "F1 Score: 0.6165413533834587\n",
            "\n",
            "Results for Logistic Regression with sigmoid calibration\n",
            "Accuracy: 0.8218340611353712\n",
            "Precision: 0.7276995305164319\n",
            "Recall: 0.5149501661129569\n",
            "F1 Score: 0.603112840466926\n",
            "\n",
            "Results for Logistic Regression with isotonic calibration\n",
            "Accuracy: 0.8253275109170306\n",
            "Precision: 0.726457399103139\n",
            "Recall: 0.5382059800664452\n",
            "F1 Score: 0.6183206106870228\n",
            "\n",
            "Results for Logistic Regression with angular calibration\n",
            "Accuracy: 0.8270742358078602\n",
            "Precision: 0.708502024291498\n",
            "Recall: 0.5813953488372093\n",
            "F1 Score: 0.6386861313868614\n",
            "\n"
          ]
        }
      ],
      "source": [
        "print(BaseLearner(\"Logistic Regression\", MODELS[\"LogReg\"], train_features, test_features, train_labels, test_labels).run_and_score())\n",
        "\n",
        "print(BaseLearner(\"Logistic Regression\", MODELS[\"LogReg\"], train_features, test_features, train_labels, test_labels, calibrated_method=\"sigmoid\").run_and_score())\n",
        "\n",
        "print(BaseLearner(\"Logistic Regression\", MODELS[\"LogReg\"], train_features, test_features, train_labels, test_labels, calibrated_method=\"isotonic\").run_and_score())\n",
        "\n",
        "print(BaseLearner(\"Logistic Regression\", MODELS[\"LogReg\"], train_features, test_features, train_labels, test_labels, calibrated_method=\"angular\").run_and_score())\n"
      ]
    },
    {
      "cell_type": "code",
      "execution_count": null,
      "metadata": {
        "colab": {
          "base_uri": "https://localhost:8080/"
        },
        "id": "sTdA2GoEb48C",
        "outputId": "cea16e1c-c937-4e50-ddbe-0d8890bd093a"
      },
      "outputs": [
        {
          "name": "stdout",
          "output_type": "stream",
          "text": [
            "Results for KNN\n",
            "Accuracy: 0.7799126637554585\n",
            "Precision: 0.6762589928057554\n",
            "Recall: 0.3122923588039867\n",
            "F1 Score: 0.4272727272727272\n",
            "\n",
            "Results for KNN with sigmoid calibration\n",
            "Accuracy: 0.7781659388646288\n",
            "Precision: 0.6358381502890174\n",
            "Recall: 0.3654485049833887\n",
            "F1 Score: 0.46413502109704646\n",
            "\n",
            "Results for KNN with isotonic calibration\n",
            "Accuracy: 0.7746724890829695\n",
            "Precision: 0.6080402010050251\n",
            "Recall: 0.4019933554817276\n",
            "F1 Score: 0.48400000000000004\n",
            "\n"
          ]
        }
      ],
      "source": [
        "print(BaseLearner(\"KNN\", MODELS[\"KNN\"], train_features, test_features, train_labels, test_labels).run_and_score())\n",
        "\n",
        "print(BaseLearner(\"KNN\", MODELS[\"KNN\"], train_features, test_features, train_labels, test_labels, calibrated_method=\"sigmoid\").run_and_score())\n",
        "\n",
        "print(BaseLearner(\"KNN\", MODELS[\"KNN\"], train_features, test_features, train_labels, test_labels, calibrated_method=\"isotonic\").run_and_score())"
      ]
    },
    {
      "cell_type": "code",
      "execution_count": null,
      "metadata": {
        "colab": {
          "base_uri": "https://localhost:8080/"
        },
        "id": "jliCL3qfdlSO",
        "outputId": "5c0965d0-e1e1-46d4-f495-60674f46b146"
      },
      "outputs": [
        {
          "name": "stdout",
          "output_type": "stream",
          "text": [
            "Results for Decision Tree\n",
            "Accuracy: 0.748471615720524\n",
            "Precision: 0.52\n",
            "Recall: 0.5614617940199336\n",
            "F1 Score: 0.5399361022364217\n",
            "\n",
            "Results for Decision Tree with sigmoid calibration\n",
            "Accuracy: 0.7921397379912664\n",
            "Precision: 0.8620689655172413\n",
            "Recall: 0.24916943521594684\n",
            "F1 Score: 0.38659793814432986\n",
            "\n",
            "Results for Decision Tree with isotonic calibration\n",
            "Accuracy: 0.7921397379912664\n",
            "Precision: 0.8620689655172413\n",
            "Recall: 0.24916943521594684\n",
            "F1 Score: 0.38659793814432986\n",
            "\n"
          ]
        }
      ],
      "source": [
        "print(BaseLearner(\"Decision Tree\", MODELS[\"DT\"], train_features, test_features, train_labels, test_labels).run_and_score())\n",
        "\n",
        "# ***Very interesting finding\n",
        "print(BaseLearner(\"Decision Tree\", MODELS[\"DT\"], train_features, test_features, train_labels, test_labels, calibrated_method=\"sigmoid\").run_and_score())\n",
        "\n",
        "print(BaseLearner(\"Decision Tree\", MODELS[\"DT\"], train_features, test_features, train_labels, test_labels, calibrated_method=\"isotonic\").run_and_score())"
      ]
    },
    {
      "cell_type": "code",
      "execution_count": null,
      "metadata": {
        "colab": {
          "base_uri": "https://localhost:8080/"
        },
        "id": "n8OtsB-2gkce",
        "outputId": "93dd23d3-76dc-4a1a-ca3f-574461760e6a"
      },
      "outputs": [
        {
          "name": "stdout",
          "output_type": "stream",
          "text": [
            "Results for Support Vector Classifier\n",
            "Accuracy: 0.8270742358078602\n",
            "Precision: 0.7395348837209302\n",
            "Recall: 0.5282392026578073\n",
            "F1 Score: 0.6162790697674418\n",
            "\n",
            "Results for Support Vector Classifier with sigmoid calibration\n",
            "Accuracy: 0.8244541484716157\n",
            "Precision: 0.7450980392156863\n",
            "Recall: 0.5049833887043189\n",
            "F1 Score: 0.601980198019802\n",
            "\n",
            "Results for Support Vector Classifier with isotonic calibration\n",
            "Accuracy: 0.8253275109170306\n",
            "Precision: 0.7439613526570048\n",
            "Recall: 0.5116279069767442\n",
            "F1 Score: 0.6062992125984252\n",
            "\n",
            "Results for Support Vector Classifier with angular calibration\n",
            "Accuracy: 0.8305676855895197\n",
            "Precision: 0.73568281938326\n",
            "Recall: 0.5548172757475083\n",
            "F1 Score: 0.6325757575757575\n",
            "\n"
          ]
        }
      ],
      "source": [
        "print(BaseLearner(\"Support Vector Classifier\", MODELS[\"SVC\"], train_features, test_features, train_labels, test_labels).run_and_score())\n",
        "\n",
        "print(BaseLearner(\"Support Vector Classifier\", MODELS[\"SVC\"], train_features, test_features, train_labels, test_labels, calibrated_method=\"sigmoid\").run_and_score())\n",
        "\n",
        "print(BaseLearner(\"Support Vector Classifier\", MODELS[\"SVC\"], train_features, test_features, train_labels, test_labels, calibrated_method=\"isotonic\").run_and_score())\n",
        "\n",
        "print(BaseLearner(\"Support Vector Classifier\", MODELS[\"SVC\"], train_features, test_features, train_labels, test_labels, calibrated_method=\"angular\").run_and_score())"
      ]
    },
    {
      "cell_type": "code",
      "execution_count": null,
      "metadata": {
        "colab": {
          "base_uri": "https://localhost:8080/"
        },
        "id": "8vbUtKtwhJgt",
        "outputId": "d73c3bad-56a5-42fb-ed5a-848a07ba2fd4"
      },
      "outputs": [
        {
          "name": "stdout",
          "output_type": "stream",
          "text": [
            "Results for Random Forest\n",
            "Accuracy: 0.8323144104803494\n",
            "Precision: 0.7766497461928934\n",
            "Recall: 0.5083056478405316\n",
            "F1 Score: 0.6144578313253012\n",
            "\n",
            "Results for Random Forest with sigmoid calibration\n",
            "Accuracy: 0.8331877729257642\n",
            "Precision: 0.7696078431372549\n",
            "Recall: 0.521594684385382\n",
            "F1 Score: 0.6217821782178219\n",
            "\n",
            "Results for Random Forest with isotonic calibration\n",
            "Accuracy: 0.8253275109170306\n",
            "Precision: 0.730593607305936\n",
            "Recall: 0.53156146179402\n",
            "F1 Score: 0.6153846153846154\n",
            "\n"
          ]
        }
      ],
      "source": [
        "print(BaseLearner(\"Random Forest\", MODELS[\"RF\"], train_features, test_features, train_labels, test_labels).run_and_score())\n",
        "\n",
        "# RF has its calibration trade off precision for recall (above diagonal)\n",
        "print(BaseLearner(\"Random Forest\", MODELS[\"RF\"], train_features, test_features, train_labels, test_labels, calibrated_method=\"sigmoid\").run_and_score())\n",
        "\n",
        "print(BaseLearner(\"Random Forest\", MODELS[\"RF\"], train_features, test_features, train_labels, test_labels, calibrated_method=\"isotonic\").run_and_score())\n"
      ]
    },
    {
      "cell_type": "code",
      "execution_count": null,
      "metadata": {
        "colab": {
          "base_uri": "https://localhost:8080/"
        },
        "id": "qu-fCaz78mwQ",
        "outputId": "ee2f7bde-7b54-4b4e-d0e2-3a07f7c9eef0"
      },
      "outputs": [
        {
          "name": "stdout",
          "output_type": "stream",
          "text": [
            "Results for Passive-Aggressive Classifier\n",
            "Accuracy: 0.7510917030567685\n",
            "Precision: 0.5248447204968945\n",
            "Recall: 0.5614617940199336\n",
            "F1 Score: 0.5425361155698234\n",
            "\n",
            "Results for Passive-Aggressive Classifier with sigmoid calibration\n",
            "Accuracy: 0.8026200873362446\n",
            "Precision: 0.7450980392156863\n",
            "Recall: 0.3787375415282392\n",
            "F1 Score: 0.5022026431718062\n",
            "\n",
            "Results for Passive-Aggressive Classifier with isotonic calibration\n",
            "Accuracy: 0.8139737991266376\n",
            "Precision: 0.7650602409638554\n",
            "Recall: 0.4219269102990033\n",
            "F1 Score: 0.5438972162740899\n",
            "\n",
            "Results for Passive-Aggressive Classifier with angular calibration\n",
            "Accuracy: 0.765938864628821\n",
            "Precision: 0.5668016194331984\n",
            "Recall: 0.46511627906976744\n",
            "F1 Score: 0.5109489051094891\n",
            "\n"
          ]
        }
      ],
      "source": [
        "print(BaseLearner(\"Passive-Aggressive Classifier\", MODELS[\"PAC\"], train_features, test_features, train_labels, test_labels).run_and_score())\n",
        "\n",
        "print(BaseLearner(\"Passive-Aggressive Classifier\", MODELS[\"PAC\"], train_features, test_features, train_labels, test_labels, calibrated_method=\"sigmoid\").run_and_score())\n",
        "\n",
        "print(BaseLearner(\"Passive-Aggressive Classifier\", MODELS[\"PAC\"], train_features, test_features, train_labels, test_labels, calibrated_method=\"isotonic\").run_and_score())\n",
        "\n",
        "print(BaseLearner(\"Passive-Aggressive Classifier\", MODELS[\"PAC\"], train_features, test_features, train_labels, test_labels, calibrated_method=\"angular\").run_and_score())"
      ]
    },
    {
      "cell_type": "code",
      "execution_count": null,
      "metadata": {
        "colab": {
          "base_uri": "https://localhost:8080/"
        },
        "id": "3iUifGtAahgJ",
        "outputId": "d189a135-70e6-460c-c0bd-57e6ecb48f47"
      },
      "outputs": [
        {
          "name": "stdout",
          "output_type": "stream",
          "text": [
            "Results for Ridge Classifier\n",
            "Accuracy: 0.7510917030567685\n",
            "Precision: 0.5248447204968945\n",
            "Recall: 0.5614617940199336\n",
            "F1 Score: 0.5425361155698234\n",
            "\n",
            "Results for Ridge Classifier with sigmoid calibration\n",
            "Accuracy: 0.8026200873362446\n",
            "Precision: 0.7450980392156863\n",
            "Recall: 0.3787375415282392\n",
            "F1 Score: 0.5022026431718062\n",
            "\n",
            "Results for Ridge Classifier with isotonic calibration\n",
            "Accuracy: 0.8139737991266376\n",
            "Precision: 0.7650602409638554\n",
            "Recall: 0.4219269102990033\n",
            "F1 Score: 0.5438972162740899\n",
            "\n",
            "Results for Ridge Classifier with angular calibration\n",
            "Accuracy: 0.765938864628821\n",
            "Precision: 0.5668016194331984\n",
            "Recall: 0.46511627906976744\n",
            "F1 Score: 0.5109489051094891\n",
            "\n"
          ]
        }
      ],
      "source": [
        "print(BaseLearner(\"Ridge Classifier\", MODELS[\"RC\"], train_features, test_features, train_labels, test_labels).run_and_score())\n",
        "\n",
        "print(BaseLearner(\"Ridge Classifier\", MODELS[\"RC\"], train_features, test_features, train_labels, test_labels, calibrated_method=\"sigmoid\").run_and_score())\n",
        "\n",
        "print(BaseLearner(\"Ridge Classifier\", MODELS[\"RC\"], train_features, test_features, train_labels, test_labels, calibrated_method=\"isotonic\").run_and_score())\n",
        "\n",
        "print(BaseLearner(\"Ridge Classifier\", MODELS[\"RC\"], train_features, test_features, train_labels, test_labels, calibrated_method=\"angular\").run_and_score())"
      ]
    },
    {
      "cell_type": "code",
      "execution_count": null,
      "metadata": {
        "colab": {
          "base_uri": "https://localhost:8080/"
        },
        "id": "fMxiIKyacCBW",
        "outputId": "7fa5cd65-aefd-4454-8819-fedc3af11ac3"
      },
      "outputs": [
        {
          "name": "stdout",
          "output_type": "stream",
          "text": [
            "Results for Perceptron\n",
            "Accuracy: 0.7842794759825328\n",
            "Precision: 0.5894039735099338\n",
            "Recall: 0.5913621262458472\n",
            "F1 Score: 0.5903814262023217\n",
            "\n",
            "Results for Perceptron with sigmoid calibration\n",
            "Accuracy: 0.8069868995633188\n",
            "Precision: 0.8448275862068966\n",
            "Recall: 0.32558139534883723\n",
            "F1 Score: 0.47002398081534774\n",
            "\n",
            "Results for Perceptron with isotonic calibration\n",
            "Accuracy: 0.8183406113537118\n",
            "Precision: 0.8120805369127517\n",
            "Recall: 0.4019933554817276\n",
            "F1 Score: 0.5377777777777778\n",
            "\n",
            "Results for Perceptron with angular calibration\n",
            "Accuracy: 0.7965065502183406\n",
            "Precision: 0.60625\n",
            "Recall: 0.6445182724252492\n",
            "F1 Score: 0.6247987117552335\n",
            "\n"
          ]
        }
      ],
      "source": [
        "print(BaseLearner(\"Perceptron\", MODELS[\"Perceptron\"], train_features, test_features, train_labels, test_labels).run_and_score())\n",
        "\n",
        "print(BaseLearner(\"Perceptron\", MODELS[\"Perceptron\"], train_features, test_features, train_labels, test_labels, calibrated_method=\"sigmoid\").run_and_score())\n",
        "\n",
        "print(BaseLearner(\"Perceptron\", MODELS[\"Perceptron\"], train_features, test_features, train_labels, test_labels, calibrated_method=\"isotonic\").run_and_score())\n",
        "\n",
        "print(BaseLearner(\"Perceptron\", MODELS[\"Perceptron\"], train_features, test_features, train_labels, test_labels, calibrated_method=\"angular\").run_and_score())"
      ]
    },
    {
      "cell_type": "code",
      "execution_count": null,
      "metadata": {
        "colab": {
          "base_uri": "https://localhost:8080/"
        },
        "id": "ncwzS8rYh-LD",
        "outputId": "47b72051-09ea-423d-e18e-413074d42cb0"
      },
      "outputs": [
        {
          "name": "stdout",
          "output_type": "stream",
          "text": [
            "Results for Soft Ensemble\n",
            "Accuracy: 0.8253275109170306\n",
            "Precision: 0.7487684729064039\n",
            "Recall: 0.5049833887043189\n",
            "F1 Score: 0.6031746031746031\n",
            "\n",
            "Results for Hard Ensemble\n",
            "Accuracy: 0.834061135371179\n",
            "Precision: 0.7817258883248731\n",
            "Recall: 0.5116279069767442\n",
            "F1 Score: 0.6184738955823293\n",
            "\n",
            "Results for Soft Ensemble\n",
            "Accuracy: 0.834061135371179\n",
            "Precision: 0.8135593220338984\n",
            "Recall: 0.47840531561461797\n",
            "F1 Score: 0.602510460251046\n",
            "\n",
            "Results for Hard Ensemble\n",
            "Accuracy: 0.8279475982532751\n",
            "Precision: 0.7921348314606742\n",
            "Recall: 0.4684385382059801\n",
            "F1 Score: 0.5887265135699373\n",
            "\n",
            "Results for Soft Ensemble\n",
            "Accuracy: 0.8314410480349345\n",
            "Precision: 0.7934782608695652\n",
            "Recall: 0.4850498338870432\n",
            "F1 Score: 0.6020618556701031\n",
            "\n",
            "Results for Hard Ensemble\n",
            "Accuracy: 0.8331877729257642\n",
            "Precision: 0.7956989247311828\n",
            "Recall: 0.49169435215946844\n",
            "F1 Score: 0.6078028747433265\n",
            "\n"
          ]
        }
      ],
      "source": [
        "# Applying calibration to base learners does not help\n",
        "from sklearn.ensemble import VotingClassifier\n",
        "for calibration_method in [None, \"sigmoid\", \"isotonic\"]:\n",
        "  ec = BaseLearner(\"Soft Ensemble\", VotingClassifier(estimators=[\n",
        "      (name, wrap_calibration(OG_MODELS[name], calibration_method)) for name in OG_MODELS.keys()\n",
        "  ], voting='soft'),\n",
        "                    train_features, test_features, train_labels, test_labels)\n",
        "  print(ec.run_and_score())\n",
        "\n",
        "\n",
        "  # This is actually what they used\n",
        "  ec = BaseLearner(\"Hard Ensemble\", VotingClassifier(estimators=[\n",
        "      (name, wrap_calibration(OG_MODELS[name], calibration_method)) for name in OG_MODELS.keys()\n",
        "  ], voting='hard'),\n",
        "                    train_features, test_features, train_labels, test_labels)\n",
        "  print(ec.run_and_score())\n",
        "\n",
        "\n"
      ]
    },
    {
      "cell_type": "code",
      "execution_count": null,
      "metadata": {
        "collapsed": true,
        "id": "5HwMY4uIkQvX"
      },
      "outputs": [],
      "source": [
        "from sklearn.ensemble import StackingClassifier, GradientBoostingClassifier\n",
        "def final_estimator_search(estimators, calibrated_method=None, models=OG_MODELS, base_calibration=None):\n",
        "  for estimator in ESTIMATORS:\n",
        "    final_estimator = wrap_calibration(estimator, calibrated_method)\n",
        "    sc = BaseLearner(\n",
        "        f\"Stacking Classifier with {estimator} ({calibrated_method})\",\n",
        "        StackingClassifier(\n",
        "            estimators=[(name, wrap_calibration(models[name], base_calibration)) for name in models.keys()],\n",
        "            final_estimator=final_estimator,\n",
        "            cv = 10\n",
        "        ),\n",
        "        train_features, test_features, train_labels, test_labels\n",
        "    )\n",
        "    print(sc.run_and_score())\n",
        "    sc.display_reliability(n_bins = 15)\n"
      ]
    },
    {
      "cell_type": "code",
      "execution_count": null,
      "metadata": {
        "colab": {
          "base_uri": "https://localhost:8080/"
        },
        "id": "Ut7rnSBSPjtT",
        "outputId": "f9649f5f-089b-47aa-a47c-541aa2a761f5"
      },
      "outputs": [
        {
          "name": "stdout",
          "output_type": "stream",
          "text": [
            "Results for Stacking Classifier with KNeighborsClassifier(n_neighbors=11, weights='distance') (None)\n",
            "Accuracy: 0.8148471615720524\n",
            "Precision: 0.6995515695067265\n",
            "Recall: 0.5182724252491694\n",
            "F1 Score: 0.5954198473282442\n",
            "\n",
            "Results for Stacking Classifier with DecisionTreeClassifier(random_state=101) (None)\n",
            "Accuracy: 0.7502183406113537\n",
            "Precision: 0.5238095238095238\n",
            "Recall: 0.5481727574750831\n",
            "F1 Score: 0.5357142857142858\n",
            "\n",
            "Results for Stacking Classifier with RandomForestClassifier(n_estimators=900, random_state=101) (None)\n",
            "Accuracy: 0.8183406113537118\n",
            "Precision: 0.7085201793721974\n",
            "Recall: 0.5249169435215947\n",
            "F1 Score: 0.6030534351145039\n",
            "\n",
            "Results for Stacking Classifier with KNeighborsClassifier(n_neighbors=11, weights='distance') (sigmoid)\n",
            "Accuracy: 0.8235807860262009\n",
            "Precision: 0.7538461538461538\n",
            "Recall: 0.4883720930232558\n",
            "F1 Score: 0.592741935483871\n",
            "\n",
            "Results for Stacking Classifier with DecisionTreeClassifier(random_state=101) (sigmoid)\n",
            "Accuracy: 0.7912663755458516\n",
            "Precision: 0.7980769230769231\n",
            "Recall: 0.2757475083056478\n",
            "F1 Score: 0.40987654320987654\n",
            "\n",
            "Results for Stacking Classifier with RandomForestClassifier(n_estimators=900, random_state=101) (sigmoid)\n",
            "Accuracy: 0.8218340611353712\n",
            "Precision: 0.7412935323383084\n",
            "Recall: 0.4950166112956811\n",
            "F1 Score: 0.5936254980079682\n",
            "\n",
            "Results for Stacking Classifier with KNeighborsClassifier(n_neighbors=11, weights='distance') (isotonic)\n",
            "Accuracy: 0.8209606986899564\n",
            "Precision: 0.7666666666666667\n",
            "Recall: 0.4584717607973422\n",
            "F1 Score: 0.5738045738045738\n",
            "\n",
            "Results for Stacking Classifier with DecisionTreeClassifier(random_state=101) (isotonic)\n",
            "Accuracy: 0.7912663755458516\n",
            "Precision: 0.7980769230769231\n",
            "Recall: 0.2757475083056478\n",
            "F1 Score: 0.40987654320987654\n",
            "\n",
            "Results for Stacking Classifier with RandomForestClassifier(n_estimators=900, random_state=101) (isotonic)\n",
            "Accuracy: 0.8218340611353712\n",
            "Precision: 0.7539267015706806\n",
            "Recall: 0.47840531561461797\n",
            "F1 Score: 0.5853658536585367\n",
            "\n"
          ]
        }
      ],
      "source": [
        "# other estimators\n",
        "ESTIMATORS = [\n",
        "    MODELS[\"KNN\"],\n",
        "    MODELS[\"DT\"],\n",
        "    MODELS[\"RF\"],\n",
        "]\n",
        "final_estimator_search(ESTIMATORS)\n",
        "final_estimator_search(ESTIMATORS, calibrated_method=\"sigmoid\")\n",
        "\n",
        "final_estimator_search(ESTIMATORS, calibrated_method=\"isotonic\")"
      ]
    },
    {
      "cell_type": "markdown",
      "metadata": {
        "id": "TjGIyqNP-AkH"
      },
      "source": [
        "# Stacking with Passthrough=False"
      ]
    },
    {
      "cell_type": "code",
      "execution_count": null,
      "metadata": {
        "colab": {
          "base_uri": "https://localhost:8080/"
        },
        "id": "DAeJ3b8N8GVN",
        "outputId": "24a484c1-1165-4580-9626-a9f41280352f"
      },
      "outputs": [
        {
          "name": "stdout",
          "output_type": "stream",
          "text": [
            "Results for Stacking Classifier with LogisticRegression(max_iter=1000000, random_state=101) (None)\n",
            "Accuracy: 0.8323144104803494\n",
            "Precision: 0.7607655502392344\n",
            "Recall: 0.5282392026578073\n",
            "F1 Score: 0.6235294117647059\n",
            "\n",
            "Results for Stacking Classifier with SVC(kernel='linear', probability=True, random_state=101) (None)\n",
            "Accuracy: 0.8314410480349345\n",
            "Precision: 0.7621359223300971\n",
            "Recall: 0.521594684385382\n",
            "F1 Score: 0.6193293885601578\n",
            "\n",
            "Results for Stacking Classifier with PassiveAggressiveClassifier(max_iter=1000000, random_state=101) (None)\n",
            "Accuracy: 0.8200873362445414\n",
            "Precision: 0.6479750778816199\n",
            "Recall: 0.6910299003322259\n",
            "F1 Score: 0.6688102893890675\n",
            "\n",
            "Results for Stacking Classifier with Perceptron(random_state=101) (None)\n",
            "Accuracy: 0.8\n",
            "Precision: 0.5983606557377049\n",
            "Recall: 0.7275747508305648\n",
            "F1 Score: 0.6566716641679161\n",
            "\n",
            "Results for Stacking Classifier with LogisticRegression(max_iter=1000000, random_state=101) (sigmoid)\n",
            "Accuracy: 0.8323144104803494\n",
            "Precision: 0.7607655502392344\n",
            "Recall: 0.5282392026578073\n",
            "F1 Score: 0.6235294117647059\n",
            "\n",
            "Results for Stacking Classifier with SVC(kernel='linear', probability=True, random_state=101) (sigmoid)\n",
            "Accuracy: 0.8288209606986899\n",
            "Precision: 0.7511961722488039\n",
            "Recall: 0.521594684385382\n",
            "F1 Score: 0.6156862745098038\n",
            "\n",
            "Results for Stacking Classifier with PassiveAggressiveClassifier(max_iter=1000000, random_state=101) (sigmoid)\n",
            "Accuracy: 0.8296943231441049\n",
            "Precision: 0.7760416666666666\n",
            "Recall: 0.4950166112956811\n",
            "F1 Score: 0.6044624746450303\n",
            "\n",
            "Results for Stacking Classifier with Perceptron(random_state=101) (sigmoid)\n",
            "Accuracy: 0.8270742358078602\n",
            "Precision: 0.7877094972067039\n",
            "Recall: 0.4684385382059801\n",
            "F1 Score: 0.5875\n",
            "\n",
            "Results for Stacking Classifier with LogisticRegression(max_iter=1000000, random_state=101) (isotonic)\n",
            "Accuracy: 0.8288209606986899\n",
            "Precision: 0.7441860465116279\n",
            "Recall: 0.53156146179402\n",
            "F1 Score: 0.62015503875969\n",
            "\n",
            "Results for Stacking Classifier with SVC(kernel='linear', probability=True, random_state=101) (isotonic)\n",
            "Accuracy: 0.8323144104803494\n",
            "Precision: 0.7978142076502732\n",
            "Recall: 0.4850498338870432\n",
            "F1 Score: 0.6033057851239669\n",
            "\n",
            "Results for Stacking Classifier with PassiveAggressiveClassifier(max_iter=1000000, random_state=101) (isotonic)\n",
            "Accuracy: 0.8305676855895197\n",
            "Precision: 0.7743589743589744\n",
            "Recall: 0.5016611295681063\n",
            "F1 Score: 0.6088709677419355\n",
            "\n",
            "Results for Stacking Classifier with Perceptron(random_state=101) (isotonic)\n",
            "Accuracy: 0.8314410480349345\n",
            "Precision: 0.8253012048192772\n",
            "Recall: 0.45514950166112955\n",
            "F1 Score: 0.5867237687366167\n",
            "\n",
            "Results for Stacking Classifier with LogisticRegression(max_iter=1000000, random_state=101) (angular)\n",
            "Accuracy: 0.8323144104803494\n",
            "Precision: 0.7607655502392344\n",
            "Recall: 0.5282392026578073\n",
            "F1 Score: 0.6235294117647059\n",
            "\n",
            "Results for Stacking Classifier with SVC(kernel='linear', probability=True, random_state=101) (angular)\n",
            "Accuracy: 0.8314410480349345\n",
            "Precision: 0.7621359223300971\n",
            "Recall: 0.521594684385382\n",
            "F1 Score: 0.6193293885601578\n",
            "\n",
            "Results for Stacking Classifier with PassiveAggressiveClassifier(max_iter=1000000, random_state=101) (angular)\n",
            "Accuracy: 0.8200873362445414\n",
            "Precision: 0.6479750778816199\n",
            "Recall: 0.6910299003322259\n",
            "F1 Score: 0.6688102893890675\n",
            "\n",
            "Results for Stacking Classifier with Perceptron(random_state=101) (angular)\n",
            "Accuracy: 0.8\n",
            "Precision: 0.5983606557377049\n",
            "Recall: 0.7275747508305648\n",
            "F1 Score: 0.6566716641679161\n",
            "\n"
          ]
        }
      ],
      "source": [
        "# PARAM_MODELS = {name: MODELS[name] for name in [\"LogReg\", \"SVC\", \"PAC\", \"RC\", \"Perceptron\"]}\n",
        "ESTIMATORS = [\n",
        "    MODELS[\"LogReg\"],\n",
        "    MODELS[\"SVC\"],\n",
        "    MODELS[\"PAC\"],\n",
        "    MODELS[\"Perceptron\"]\n",
        "]\n",
        "\n",
        "final_estimator_search(ESTIMATORS)\n",
        "\n",
        "final_estimator_search(ESTIMATORS, calibrated_method=\"sigmoid\")\n",
        "\n",
        "final_estimator_search(ESTIMATORS, calibrated_method=\"isotonic\")\n",
        "\n",
        "final_estimator_search(ESTIMATORS, calibrated_method=\"angular\")"
      ]
    },
    {
      "cell_type": "markdown",
      "metadata": {
        "id": "Bw8L5WQ8fhoS"
      },
      "source": [
        "## Exploring post-calibration reliability curves"
      ]
    },
    {
      "cell_type": "code",
      "execution_count": null,
      "metadata": {
        "colab": {
          "base_uri": "https://localhost:8080/"
        },
        "id": "_5hc63RbfX0l",
        "outputId": "88e2848a-bec3-4167-c323-e635a7c79ecf"
      },
      "outputs": [
        {
          "name": "stdout",
          "output_type": "stream",
          "text": [
            "Results for Stacking Classifier with PassiveAggressiveClassifier(max_iter=1000000, random_state=101) (sigmoid)\n",
            "Accuracy: 0.8323144104803494\n",
            "Precision: 0.7794871794871795\n",
            "Recall: 0.5049833887043189\n",
            "F1 Score: 0.6129032258064515\n",
            "\n",
            "Results for Stacking Classifier with PassiveAggressiveClassifier(max_iter=1000000, random_state=101) (isotonic)\n",
            "Accuracy: 0.8331877729257642\n",
            "Precision: 0.7894736842105263\n",
            "Recall: 0.4983388704318937\n",
            "F1 Score: 0.6109979633401222\n",
            "\n",
            "Results for Stacking Classifier with PassiveAggressiveClassifier(max_iter=1000000, random_state=101) (angular)\n",
            "Accuracy: 0.8192139737991266\n",
            "Precision: 0.6450617283950617\n",
            "Recall: 0.6943521594684385\n",
            "F1 Score: 0.6688\n",
            "\n"
          ]
        }
      ],
      "source": [
        "ESTIMATORS = [\n",
        "    MODELS[\"PAC\"],\n",
        "]\n",
        "final_estimator_search(ESTIMATORS, calibrated_method=\"sigmoid\")\n",
        "\n",
        "final_estimator_search(ESTIMATORS, calibrated_method=\"isotonic\")\n",
        "\n",
        "final_estimator_search(ESTIMATORS, calibrated_method=\"angular\")\n",
        "\n"
      ]
    },
    {
      "cell_type": "code",
      "execution_count": null,
      "metadata": {
        "colab": {
          "background_save": true,
          "base_uri": "https://localhost:8080/"
        },
        "id": "8BUQw4rzLaBx",
        "outputId": "e90343e1-42f7-4b77-df41-bcbdf74e7f16"
      },
      "outputs": [
        {
          "name": "stdout",
          "output_type": "stream",
          "text": [
            "Results for Stacking Classifier with LogisticRegression(max_iter=1000000, random_state=101) (None)\n",
            "Accuracy: 0.8296943231441049\n",
            "Precision: 0.7476635514018691\n",
            "Recall: 0.53156146179402\n",
            "F1 Score: 0.6213592233009709\n",
            "\n",
            "Results for Stacking Classifier with SVC(kernel='linear', probability=True, random_state=101) (None)\n",
            "Accuracy: 0.834061135371179\n",
            "Precision: 0.7761194029850746\n",
            "Recall: 0.5182724252491694\n",
            "F1 Score: 0.6215139442231076\n",
            "\n",
            "Results for Stacking Classifier with PassiveAggressiveClassifier(max_iter=1000000, random_state=101) (None)\n",
            "Accuracy: 0.8\n",
            "Precision: 0.6040462427745664\n",
            "Recall: 0.6943521594684385\n",
            "F1 Score: 0.6460587326120557\n",
            "\n",
            "Results for Stacking Classifier with LogisticRegression(max_iter=1000000, random_state=101) (sigmoid)\n",
            "Accuracy: 0.8296943231441049\n",
            "Precision: 0.7476635514018691\n",
            "Recall: 0.53156146179402\n",
            "F1 Score: 0.6213592233009709\n",
            "\n",
            "Results for Stacking Classifier with SVC(kernel='linear', probability=True, random_state=101) (sigmoid)\n",
            "Accuracy: 0.8349344978165939\n",
            "Precision: 0.7745098039215687\n",
            "Recall: 0.5249169435215947\n",
            "F1 Score: 0.6257425742574257\n",
            "\n",
            "Results for Stacking Classifier with PassiveAggressiveClassifier(max_iter=1000000, random_state=101) (sigmoid)\n",
            "Accuracy: 0.834061135371179\n",
            "Precision: 0.7655502392344498\n",
            "Recall: 0.53156146179402\n",
            "F1 Score: 0.627450980392157\n",
            "\n",
            "Results for Stacking Classifier with LogisticRegression(max_iter=1000000, random_state=101) (isotonic)\n",
            "Accuracy: 0.8331877729257642\n",
            "Precision: 0.7669902912621359\n",
            "Recall: 0.5249169435215947\n",
            "F1 Score: 0.6232741617357002\n",
            "\n",
            "Results for Stacking Classifier with SVC(kernel='linear', probability=True, random_state=101) (isotonic)\n",
            "Accuracy: 0.8358078602620087\n",
            "Precision: 0.8054054054054054\n",
            "Recall: 0.4950166112956811\n",
            "F1 Score: 0.6131687242798354\n",
            "\n",
            "Results for Stacking Classifier with PassiveAggressiveClassifier(max_iter=1000000, random_state=101) (isotonic)\n",
            "Accuracy: 0.8323144104803494\n",
            "Precision: 0.7443946188340808\n",
            "Recall: 0.5514950166112956\n",
            "F1 Score: 0.633587786259542\n",
            "\n",
            "Results for Stacking Classifier with LogisticRegression(max_iter=1000000, random_state=101) (angular)\n",
            "Accuracy: 0.8296943231441049\n",
            "Precision: 0.7476635514018691\n",
            "Recall: 0.53156146179402\n",
            "F1 Score: 0.6213592233009709\n",
            "\n",
            "Results for Stacking Classifier with SVC(kernel='linear', probability=True, random_state=101) (angular)\n",
            "Accuracy: 0.834061135371179\n",
            "Precision: 0.7761194029850746\n",
            "Recall: 0.5182724252491694\n",
            "F1 Score: 0.6215139442231076\n",
            "\n",
            "Results for Stacking Classifier with PassiveAggressiveClassifier(max_iter=1000000, random_state=101) (angular)\n",
            "Accuracy: 0.8\n",
            "Precision: 0.6040462427745664\n",
            "Recall: 0.6943521594684385\n",
            "F1 Score: 0.6460587326120557\n",
            "\n"
          ]
        }
      ],
      "source": [
        "# Sigmoid calibration for base learners\n",
        "# pre-stacked vs post-stacked cailbration\n",
        "# only SVC gives improvements\n",
        "ESTIMATORS = [\n",
        "    MODELS[\"LogReg\"],\n",
        "    MODELS[\"SVC\"],\n",
        "    MODELS[\"PAC\"]\n",
        "]\n",
        "\n",
        "final_estimator_search(ESTIMATORS)\n",
        "\n",
        "final_estimator_search(ESTIMATORS, calibrated_method=\"sigmoid\")\n",
        "\n",
        "final_estimator_search(ESTIMATORS, calibrated_method=\"isotonic\")\n",
        "\n",
        "final_estimator_search(ESTIMATORS, calibrated_method=\"angular\")"
      ]
    },
    {
      "cell_type": "code",
      "execution_count": null,
      "metadata": {
        "colab": {
          "background_save": true,
          "base_uri": "https://localhost:8080/"
        },
        "id": "C2mfpyxXyZj-",
        "outputId": "63468b67-3252-4b8c-a00b-5967bf4fd018"
      },
      "outputs": [
        {
          "name": "stdout",
          "output_type": "stream",
          "text": [
            "Results for Stacking Classifier with LogisticRegression(max_iter=1000000, random_state=101) (None)\n",
            "Accuracy: 0.8296943231441049\n",
            "Precision: 0.7431192660550459\n",
            "Recall: 0.5382059800664452\n",
            "F1 Score: 0.6242774566473989\n",
            "\n",
            "Results for Stacking Classifier with SVC(kernel='linear', probability=True, random_state=101) (None)\n",
            "Accuracy: 0.8323144104803494\n",
            "Precision: 0.7738693467336684\n",
            "Recall: 0.5116279069767442\n",
            "F1 Score: 0.6160000000000001\n",
            "\n",
            "Results for Stacking Classifier with PassiveAggressiveClassifier(max_iter=1000000, random_state=101) (None)\n",
            "Accuracy: 0.8331877729257642\n",
            "Precision: 0.7391304347826086\n",
            "Recall: 0.5647840531561462\n",
            "F1 Score: 0.6403013182674199\n",
            "\n",
            "Results for Stacking Classifier with LogisticRegression(max_iter=1000000, random_state=101) (sigmoid)\n",
            "Accuracy: 0.8296943231441049\n",
            "Precision: 0.7431192660550459\n",
            "Recall: 0.5382059800664452\n",
            "F1 Score: 0.6242774566473989\n",
            "\n",
            "Results for Stacking Classifier with SVC(kernel='linear', probability=True, random_state=101) (sigmoid)\n",
            "Accuracy: 0.8323144104803494\n",
            "Precision: 0.7607655502392344\n",
            "Recall: 0.5282392026578073\n",
            "F1 Score: 0.6235294117647059\n",
            "\n",
            "Results for Stacking Classifier with PassiveAggressiveClassifier(max_iter=1000000, random_state=101) (sigmoid)\n",
            "Accuracy: 0.8279475982532751\n",
            "Precision: 0.7385321100917431\n",
            "Recall: 0.5348837209302325\n",
            "F1 Score: 0.6204238921001927\n",
            "\n",
            "Results for Stacking Classifier with LogisticRegression(max_iter=1000000, random_state=101) (isotonic)\n",
            "Accuracy: 0.8296943231441049\n",
            "Precision: 0.7431192660550459\n",
            "Recall: 0.5382059800664452\n",
            "F1 Score: 0.6242774566473989\n",
            "\n",
            "Results for Stacking Classifier with SVC(kernel='linear', probability=True, random_state=101) (isotonic)\n",
            "Accuracy: 0.8305676855895197\n",
            "Precision: 0.7688442211055276\n",
            "Recall: 0.5083056478405316\n",
            "F1 Score: 0.612\n",
            "\n",
            "Results for Stacking Classifier with PassiveAggressiveClassifier(max_iter=1000000, random_state=101) (isotonic)\n",
            "Accuracy: 0.8288209606986899\n",
            "Precision: 0.7354260089686099\n",
            "Recall: 0.5448504983388704\n",
            "F1 Score: 0.6259541984732825\n",
            "\n",
            "Results for Stacking Classifier with LogisticRegression(max_iter=1000000, random_state=101) (angular)\n",
            "Accuracy: 0.8296943231441049\n",
            "Precision: 0.7431192660550459\n",
            "Recall: 0.5382059800664452\n",
            "F1 Score: 0.6242774566473989\n",
            "\n",
            "Results for Stacking Classifier with SVC(kernel='linear', probability=True, random_state=101) (angular)\n",
            "Accuracy: 0.8323144104803494\n",
            "Precision: 0.7738693467336684\n",
            "Recall: 0.5116279069767442\n",
            "F1 Score: 0.6160000000000001\n",
            "\n",
            "Results for Stacking Classifier with PassiveAggressiveClassifier(max_iter=1000000, random_state=101) (angular)\n",
            "Accuracy: 0.8331877729257642\n",
            "Precision: 0.7391304347826086\n",
            "Recall: 0.5647840531561462\n",
            "F1 Score: 0.6403013182674199\n",
            "\n"
          ]
        }
      ],
      "source": [
        "ESTIMATORS = [\n",
        "    MODELS[\"LogReg\"],\n",
        "    MODELS[\"SVC\"],\n",
        "    MODELS[\"PAC\"]\n",
        "]\n",
        "\n",
        "final_estimator_search(ESTIMATORS, base_calibration=\"isotonic\")\n",
        "\n",
        "final_estimator_search(ESTIMATORS, calibrated_method=\"sigmoid\", base_calibration=\"isotonic\")\n",
        "\n",
        "final_estimator_search(ESTIMATORS, calibrated_method=\"isotonic\", base_calibration=\"isotonic\")\n",
        "\n",
        "final_estimator_search(ESTIMATORS, calibrated_method=\"angular\", base_calibration=\"isotonic\")"
      ]
    },
    {
      "cell_type": "markdown",
      "metadata": {
        "id": "NvgFXA30CmHx"
      },
      "source": [
        "### Lesson learnt:\n",
        "\n",
        "The angular calibration is more consistent, monotonic with a slightly mispredicted angle, however, is in fact more interepratble than the noisy calibrated that is theoretically closer to the identity line. The transformation learnt is more **generalizable** and proves an exception to Relaibility Curve Rule which just considered closeness to the perfect line, even though its noisy and shows overfitting behavior"
      ]
    },
    {
      "cell_type": "code",
      "execution_count": null,
      "metadata": {
        "colab": {
          "base_uri": "https://localhost:8080/",
          "height": 324
        },
        "id": "CdmRVVUDf--2",
        "outputId": "b75cfdac-fb10-4205-d7b9-9c45870f9552"
      },
      "outputs": [
        {
          "ename": "KeyboardInterrupt",
          "evalue": "",
          "output_type": "error",
          "traceback": [
            "\u001b[0;31m---------------------------------------------------------------------------\u001b[0m",
            "\u001b[0;31mKeyboardInterrupt\u001b[0m                         Traceback (most recent call last)",
            "\u001b[0;32m<ipython-input-18-ed4eaac89e55>\u001b[0m in \u001b[0;36m<cell line: 0>\u001b[0;34m()\u001b[0m\n\u001b[1;32m      8\u001b[0m \u001b[0;34m\u001b[0m\u001b[0m\n\u001b[1;32m      9\u001b[0m ]\n\u001b[0;32m---> 10\u001b[0;31m \u001b[0mfinal_estimator_search\u001b[0m\u001b[0;34m(\u001b[0m\u001b[0mESTIMATORS\u001b[0m\u001b[0;34m)\u001b[0m\u001b[0;34m\u001b[0m\u001b[0;34m\u001b[0m\u001b[0m\n\u001b[0m\u001b[1;32m     11\u001b[0m \u001b[0;34m\u001b[0m\u001b[0m\n",
            "\u001b[0;32m<ipython-input-16-572761bda4eb>\u001b[0m in \u001b[0;36mfinal_estimator_search\u001b[0;34m(estimators, calibrated_method, models)\u001b[0m\n\u001b[1;32m     14\u001b[0m         \u001b[0mtrain_features\u001b[0m\u001b[0;34m,\u001b[0m \u001b[0mtest_features\u001b[0m\u001b[0;34m,\u001b[0m \u001b[0mtrain_labels\u001b[0m\u001b[0;34m,\u001b[0m \u001b[0mtest_labels\u001b[0m\u001b[0;34m\u001b[0m\u001b[0;34m\u001b[0m\u001b[0m\n\u001b[1;32m     15\u001b[0m     )\n\u001b[0;32m---> 16\u001b[0;31m     \u001b[0mprint\u001b[0m\u001b[0;34m(\u001b[0m\u001b[0msc\u001b[0m\u001b[0;34m.\u001b[0m\u001b[0mrun_and_score\u001b[0m\u001b[0;34m(\u001b[0m\u001b[0;34m)\u001b[0m\u001b[0;34m)\u001b[0m\u001b[0;34m\u001b[0m\u001b[0;34m\u001b[0m\u001b[0m\n\u001b[0m\u001b[1;32m     17\u001b[0m     \u001b[0msc\u001b[0m\u001b[0;34m.\u001b[0m\u001b[0mdisplay_reliability\u001b[0m\u001b[0;34m(\u001b[0m\u001b[0mn_bins\u001b[0m \u001b[0;34m=\u001b[0m \u001b[0;36m15\u001b[0m\u001b[0;34m)\u001b[0m\u001b[0;34m\u001b[0m\u001b[0;34m\u001b[0m\u001b[0m\n",
            "\u001b[0;32m<ipython-input-14-e46d6222f1d7>\u001b[0m in \u001b[0;36mrun_and_score\u001b[0;34m(self)\u001b[0m\n\u001b[1;32m     36\u001b[0m   \u001b[0;32mdef\u001b[0m \u001b[0mrun_and_score\u001b[0m\u001b[0;34m(\u001b[0m\u001b[0mself\u001b[0m\u001b[0;34m)\u001b[0m\u001b[0;34m->\u001b[0m\u001b[0mMetricResult\u001b[0m\u001b[0;34m:\u001b[0m\u001b[0;34m\u001b[0m\u001b[0;34m\u001b[0m\u001b[0m\n\u001b[1;32m     37\u001b[0m       \u001b[0;32mif\u001b[0m \u001b[0mself\u001b[0m\u001b[0;34m.\u001b[0m\u001b[0mpredictions\u001b[0m \u001b[0;32mis\u001b[0m \u001b[0;32mNone\u001b[0m\u001b[0;34m:\u001b[0m\u001b[0;34m\u001b[0m\u001b[0;34m\u001b[0m\u001b[0m\n\u001b[0;32m---> 38\u001b[0;31m         \u001b[0mself\u001b[0m\u001b[0;34m.\u001b[0m\u001b[0mpredictions\u001b[0m \u001b[0;34m=\u001b[0m \u001b[0mself\u001b[0m\u001b[0;34m.\u001b[0m\u001b[0mpredict\u001b[0m\u001b[0;34m(\u001b[0m\u001b[0;34m)\u001b[0m\u001b[0;34m\u001b[0m\u001b[0;34m\u001b[0m\u001b[0m\n\u001b[0m\u001b[1;32m     39\u001b[0m       \u001b[0;32mreturn\u001b[0m \u001b[0mMetricResult\u001b[0m\u001b[0;34m(\u001b[0m\u001b[0mself\u001b[0m\u001b[0;34m.\u001b[0m\u001b[0mpredictions\u001b[0m\u001b[0;34m,\u001b[0m \u001b[0mself\u001b[0m\u001b[0;34m.\u001b[0m\u001b[0mtest_labels\u001b[0m\u001b[0;34m,\u001b[0m \u001b[0mself\u001b[0m\u001b[0;34m.\u001b[0m\u001b[0mname\u001b[0m\u001b[0;34m)\u001b[0m\u001b[0;34m\u001b[0m\u001b[0;34m\u001b[0m\u001b[0m\n\u001b[1;32m     40\u001b[0m \u001b[0;34m\u001b[0m\u001b[0m\n",
            "\u001b[0;32m<ipython-input-14-e46d6222f1d7>\u001b[0m in \u001b[0;36mpredict\u001b[0;34m(self)\u001b[0m\n\u001b[1;32m     31\u001b[0m   \u001b[0;32mdef\u001b[0m \u001b[0mpredict\u001b[0m\u001b[0;34m(\u001b[0m\u001b[0mself\u001b[0m\u001b[0;34m)\u001b[0m\u001b[0;34m:\u001b[0m\u001b[0;34m\u001b[0m\u001b[0;34m\u001b[0m\u001b[0m\n\u001b[1;32m     32\u001b[0m       \u001b[0;32mif\u001b[0m \u001b[0;32mnot\u001b[0m \u001b[0mself\u001b[0m\u001b[0;34m.\u001b[0m\u001b[0mtrained\u001b[0m\u001b[0;34m:\u001b[0m\u001b[0;34m\u001b[0m\u001b[0;34m\u001b[0m\u001b[0m\n\u001b[0;32m---> 33\u001b[0;31m         \u001b[0mself\u001b[0m\u001b[0;34m.\u001b[0m\u001b[0mfit\u001b[0m\u001b[0;34m(\u001b[0m\u001b[0;34m)\u001b[0m\u001b[0;34m\u001b[0m\u001b[0;34m\u001b[0m\u001b[0m\n\u001b[0m\u001b[1;32m     34\u001b[0m       \u001b[0;32mreturn\u001b[0m \u001b[0mself\u001b[0m\u001b[0;34m.\u001b[0m\u001b[0mmodel\u001b[0m\u001b[0;34m.\u001b[0m\u001b[0mpredict\u001b[0m\u001b[0;34m(\u001b[0m\u001b[0mself\u001b[0m\u001b[0;34m.\u001b[0m\u001b[0mtest_features\u001b[0m\u001b[0;34m)\u001b[0m\u001b[0;34m\u001b[0m\u001b[0;34m\u001b[0m\u001b[0m\n\u001b[1;32m     35\u001b[0m \u001b[0;34m\u001b[0m\u001b[0m\n",
            "\u001b[0;32m<ipython-input-14-e46d6222f1d7>\u001b[0m in \u001b[0;36mfit\u001b[0;34m(self)\u001b[0m\n\u001b[1;32m     26\u001b[0m           \u001b[0mself\u001b[0m\u001b[0;34m.\u001b[0m\u001b[0mmodel\u001b[0m\u001b[0;34m.\u001b[0m\u001b[0mfit\u001b[0m\u001b[0;34m(\u001b[0m\u001b[0mX_tr\u001b[0m\u001b[0;34m,\u001b[0m \u001b[0my_tr\u001b[0m\u001b[0;34m,\u001b[0m \u001b[0mX_sign\u001b[0m\u001b[0;34m=\u001b[0m\u001b[0mX_sign\u001b[0m\u001b[0;34m,\u001b[0m \u001b[0my_sign\u001b[0m\u001b[0;34m=\u001b[0m\u001b[0my_sign\u001b[0m\u001b[0;34m)\u001b[0m\u001b[0;34m\u001b[0m\u001b[0;34m\u001b[0m\u001b[0m\n\u001b[1;32m     27\u001b[0m       \u001b[0;32melse\u001b[0m\u001b[0;34m:\u001b[0m\u001b[0;34m\u001b[0m\u001b[0;34m\u001b[0m\u001b[0m\n\u001b[0;32m---> 28\u001b[0;31m           \u001b[0mself\u001b[0m\u001b[0;34m.\u001b[0m\u001b[0mmodel\u001b[0m\u001b[0;34m.\u001b[0m\u001b[0mfit\u001b[0m\u001b[0;34m(\u001b[0m\u001b[0mself\u001b[0m\u001b[0;34m.\u001b[0m\u001b[0mtrain_features\u001b[0m\u001b[0;34m,\u001b[0m \u001b[0mself\u001b[0m\u001b[0;34m.\u001b[0m\u001b[0mtrain_labels\u001b[0m\u001b[0;34m)\u001b[0m\u001b[0;34m\u001b[0m\u001b[0;34m\u001b[0m\u001b[0m\n\u001b[0m\u001b[1;32m     29\u001b[0m       \u001b[0mself\u001b[0m\u001b[0;34m.\u001b[0m\u001b[0mtrained\u001b[0m \u001b[0;34m=\u001b[0m \u001b[0;32mTrue\u001b[0m\u001b[0;34m\u001b[0m\u001b[0;34m\u001b[0m\u001b[0m\n\u001b[1;32m     30\u001b[0m \u001b[0;34m\u001b[0m\u001b[0m\n",
            "\u001b[0;32m/usr/local/lib/python3.11/dist-packages/sklearn/utils/validation.py\u001b[0m in \u001b[0;36minner_f\u001b[0;34m(*args, **kwargs)\u001b[0m\n\u001b[1;32m     61\u001b[0m             \u001b[0mextra_args\u001b[0m \u001b[0;34m=\u001b[0m \u001b[0mlen\u001b[0m\u001b[0;34m(\u001b[0m\u001b[0margs\u001b[0m\u001b[0;34m)\u001b[0m \u001b[0;34m-\u001b[0m \u001b[0mlen\u001b[0m\u001b[0;34m(\u001b[0m\u001b[0mall_args\u001b[0m\u001b[0;34m)\u001b[0m\u001b[0;34m\u001b[0m\u001b[0;34m\u001b[0m\u001b[0m\n\u001b[1;32m     62\u001b[0m             \u001b[0;32mif\u001b[0m \u001b[0mextra_args\u001b[0m \u001b[0;34m<=\u001b[0m \u001b[0;36m0\u001b[0m\u001b[0;34m:\u001b[0m\u001b[0;34m\u001b[0m\u001b[0;34m\u001b[0m\u001b[0m\n\u001b[0;32m---> 63\u001b[0;31m                 \u001b[0;32mreturn\u001b[0m \u001b[0mf\u001b[0m\u001b[0;34m(\u001b[0m\u001b[0;34m*\u001b[0m\u001b[0margs\u001b[0m\u001b[0;34m,\u001b[0m \u001b[0;34m**\u001b[0m\u001b[0mkwargs\u001b[0m\u001b[0;34m)\u001b[0m\u001b[0;34m\u001b[0m\u001b[0;34m\u001b[0m\u001b[0m\n\u001b[0m\u001b[1;32m     64\u001b[0m \u001b[0;34m\u001b[0m\u001b[0m\n\u001b[1;32m     65\u001b[0m             \u001b[0;31m# extra_args > 0\u001b[0m\u001b[0;34m\u001b[0m\u001b[0;34m\u001b[0m\u001b[0m\n",
            "\u001b[0;32m/usr/local/lib/python3.11/dist-packages/sklearn/ensemble/_stacking.py\u001b[0m in \u001b[0;36mfit\u001b[0;34m(self, X, y, sample_weight, **fit_params)\u001b[0m\n\u001b[1;32m    715\u001b[0m         \u001b[0;32mif\u001b[0m \u001b[0msample_weight\u001b[0m \u001b[0;32mis\u001b[0m \u001b[0;32mnot\u001b[0m \u001b[0;32mNone\u001b[0m\u001b[0;34m:\u001b[0m\u001b[0;34m\u001b[0m\u001b[0;34m\u001b[0m\u001b[0m\n\u001b[1;32m    716\u001b[0m             \u001b[0mfit_params\u001b[0m\u001b[0;34m[\u001b[0m\u001b[0;34m\"sample_weight\"\u001b[0m\u001b[0;34m]\u001b[0m \u001b[0;34m=\u001b[0m \u001b[0msample_weight\u001b[0m\u001b[0;34m\u001b[0m\u001b[0;34m\u001b[0m\u001b[0m\n\u001b[0;32m--> 717\u001b[0;31m         \u001b[0;32mreturn\u001b[0m \u001b[0msuper\u001b[0m\u001b[0;34m(\u001b[0m\u001b[0;34m)\u001b[0m\u001b[0;34m.\u001b[0m\u001b[0mfit\u001b[0m\u001b[0;34m(\u001b[0m\u001b[0mX\u001b[0m\u001b[0;34m,\u001b[0m \u001b[0my_encoded\u001b[0m\u001b[0;34m,\u001b[0m \u001b[0;34m**\u001b[0m\u001b[0mfit_params\u001b[0m\u001b[0;34m)\u001b[0m\u001b[0;34m\u001b[0m\u001b[0;34m\u001b[0m\u001b[0m\n\u001b[0m\u001b[1;32m    718\u001b[0m \u001b[0;34m\u001b[0m\u001b[0m\n\u001b[1;32m    719\u001b[0m     @available_if(\n",
            "\u001b[0;32m/usr/local/lib/python3.11/dist-packages/sklearn/base.py\u001b[0m in \u001b[0;36mwrapper\u001b[0;34m(estimator, *args, **kwargs)\u001b[0m\n\u001b[1;32m   1387\u001b[0m                 )\n\u001b[1;32m   1388\u001b[0m             ):\n\u001b[0;32m-> 1389\u001b[0;31m                 \u001b[0;32mreturn\u001b[0m \u001b[0mfit_method\u001b[0m\u001b[0;34m(\u001b[0m\u001b[0mestimator\u001b[0m\u001b[0;34m,\u001b[0m \u001b[0;34m*\u001b[0m\u001b[0margs\u001b[0m\u001b[0;34m,\u001b[0m \u001b[0;34m**\u001b[0m\u001b[0mkwargs\u001b[0m\u001b[0;34m)\u001b[0m\u001b[0;34m\u001b[0m\u001b[0;34m\u001b[0m\u001b[0m\n\u001b[0m\u001b[1;32m   1390\u001b[0m \u001b[0;34m\u001b[0m\u001b[0m\n\u001b[1;32m   1391\u001b[0m         \u001b[0;32mreturn\u001b[0m \u001b[0mwrapper\u001b[0m\u001b[0;34m\u001b[0m\u001b[0;34m\u001b[0m\u001b[0m\n",
            "\u001b[0;32m/usr/local/lib/python3.11/dist-packages/sklearn/ensemble/_stacking.py\u001b[0m in \u001b[0;36mfit\u001b[0;34m(self, X, y, **fit_params)\u001b[0m\n\u001b[1;32m    210\u001b[0m             \u001b[0;31m# base estimators will be used in transform, predict, and\u001b[0m\u001b[0;34m\u001b[0m\u001b[0;34m\u001b[0m\u001b[0m\n\u001b[1;32m    211\u001b[0m             \u001b[0;31m# predict_proba. They are exposed publicly.\u001b[0m\u001b[0;34m\u001b[0m\u001b[0;34m\u001b[0m\u001b[0m\n\u001b[0;32m--> 212\u001b[0;31m             self.estimators_ = Parallel(n_jobs=self.n_jobs)(\n\u001b[0m\u001b[1;32m    213\u001b[0m                 delayed(_fit_single_estimator)(\n\u001b[1;32m    214\u001b[0m                     \u001b[0mclone\u001b[0m\u001b[0;34m(\u001b[0m\u001b[0mest\u001b[0m\u001b[0;34m)\u001b[0m\u001b[0;34m,\u001b[0m \u001b[0mX\u001b[0m\u001b[0;34m,\u001b[0m \u001b[0my\u001b[0m\u001b[0;34m,\u001b[0m \u001b[0mrouted_params\u001b[0m\u001b[0;34m[\u001b[0m\u001b[0mname\u001b[0m\u001b[0;34m]\u001b[0m\u001b[0;34m[\u001b[0m\u001b[0;34m\"fit\"\u001b[0m\u001b[0;34m]\u001b[0m\u001b[0;34m\u001b[0m\u001b[0;34m\u001b[0m\u001b[0m\n",
            "\u001b[0;32m/usr/local/lib/python3.11/dist-packages/sklearn/utils/parallel.py\u001b[0m in \u001b[0;36m__call__\u001b[0;34m(self, iterable)\u001b[0m\n\u001b[1;32m     75\u001b[0m             \u001b[0;32mfor\u001b[0m \u001b[0mdelayed_func\u001b[0m\u001b[0;34m,\u001b[0m \u001b[0margs\u001b[0m\u001b[0;34m,\u001b[0m \u001b[0mkwargs\u001b[0m \u001b[0;32min\u001b[0m \u001b[0miterable\u001b[0m\u001b[0;34m\u001b[0m\u001b[0;34m\u001b[0m\u001b[0m\n\u001b[1;32m     76\u001b[0m         )\n\u001b[0;32m---> 77\u001b[0;31m         \u001b[0;32mreturn\u001b[0m \u001b[0msuper\u001b[0m\u001b[0;34m(\u001b[0m\u001b[0;34m)\u001b[0m\u001b[0;34m.\u001b[0m\u001b[0m__call__\u001b[0m\u001b[0;34m(\u001b[0m\u001b[0miterable_with_config\u001b[0m\u001b[0;34m)\u001b[0m\u001b[0;34m\u001b[0m\u001b[0;34m\u001b[0m\u001b[0m\n\u001b[0m\u001b[1;32m     78\u001b[0m \u001b[0;34m\u001b[0m\u001b[0m\n\u001b[1;32m     79\u001b[0m \u001b[0;34m\u001b[0m\u001b[0m\n",
            "\u001b[0;32m/usr/local/lib/python3.11/dist-packages/joblib/parallel.py\u001b[0m in \u001b[0;36m__call__\u001b[0;34m(self, iterable)\u001b[0m\n\u001b[1;32m   1916\u001b[0m             \u001b[0moutput\u001b[0m \u001b[0;34m=\u001b[0m \u001b[0mself\u001b[0m\u001b[0;34m.\u001b[0m\u001b[0m_get_sequential_output\u001b[0m\u001b[0;34m(\u001b[0m\u001b[0miterable\u001b[0m\u001b[0;34m)\u001b[0m\u001b[0;34m\u001b[0m\u001b[0;34m\u001b[0m\u001b[0m\n\u001b[1;32m   1917\u001b[0m             \u001b[0mnext\u001b[0m\u001b[0;34m(\u001b[0m\u001b[0moutput\u001b[0m\u001b[0;34m)\u001b[0m\u001b[0;34m\u001b[0m\u001b[0;34m\u001b[0m\u001b[0m\n\u001b[0;32m-> 1918\u001b[0;31m             \u001b[0;32mreturn\u001b[0m \u001b[0moutput\u001b[0m \u001b[0;32mif\u001b[0m \u001b[0mself\u001b[0m\u001b[0;34m.\u001b[0m\u001b[0mreturn_generator\u001b[0m \u001b[0;32melse\u001b[0m \u001b[0mlist\u001b[0m\u001b[0;34m(\u001b[0m\u001b[0moutput\u001b[0m\u001b[0;34m)\u001b[0m\u001b[0;34m\u001b[0m\u001b[0;34m\u001b[0m\u001b[0m\n\u001b[0m\u001b[1;32m   1919\u001b[0m \u001b[0;34m\u001b[0m\u001b[0m\n\u001b[1;32m   1920\u001b[0m         \u001b[0;31m# Let's create an ID that uniquely identifies the current call. If the\u001b[0m\u001b[0;34m\u001b[0m\u001b[0;34m\u001b[0m\u001b[0m\n",
            "\u001b[0;32m/usr/local/lib/python3.11/dist-packages/joblib/parallel.py\u001b[0m in \u001b[0;36m_get_sequential_output\u001b[0;34m(self, iterable)\u001b[0m\n\u001b[1;32m   1845\u001b[0m                 \u001b[0mself\u001b[0m\u001b[0;34m.\u001b[0m\u001b[0mn_dispatched_batches\u001b[0m \u001b[0;34m+=\u001b[0m \u001b[0;36m1\u001b[0m\u001b[0;34m\u001b[0m\u001b[0;34m\u001b[0m\u001b[0m\n\u001b[1;32m   1846\u001b[0m                 \u001b[0mself\u001b[0m\u001b[0;34m.\u001b[0m\u001b[0mn_dispatched_tasks\u001b[0m \u001b[0;34m+=\u001b[0m \u001b[0;36m1\u001b[0m\u001b[0;34m\u001b[0m\u001b[0;34m\u001b[0m\u001b[0m\n\u001b[0;32m-> 1847\u001b[0;31m                 \u001b[0mres\u001b[0m \u001b[0;34m=\u001b[0m \u001b[0mfunc\u001b[0m\u001b[0;34m(\u001b[0m\u001b[0;34m*\u001b[0m\u001b[0margs\u001b[0m\u001b[0;34m,\u001b[0m \u001b[0;34m**\u001b[0m\u001b[0mkwargs\u001b[0m\u001b[0;34m)\u001b[0m\u001b[0;34m\u001b[0m\u001b[0;34m\u001b[0m\u001b[0m\n\u001b[0m\u001b[1;32m   1848\u001b[0m                 \u001b[0mself\u001b[0m\u001b[0;34m.\u001b[0m\u001b[0mn_completed_tasks\u001b[0m \u001b[0;34m+=\u001b[0m \u001b[0;36m1\u001b[0m\u001b[0;34m\u001b[0m\u001b[0;34m\u001b[0m\u001b[0m\n\u001b[1;32m   1849\u001b[0m                 \u001b[0mself\u001b[0m\u001b[0;34m.\u001b[0m\u001b[0mprint_progress\u001b[0m\u001b[0;34m(\u001b[0m\u001b[0;34m)\u001b[0m\u001b[0;34m\u001b[0m\u001b[0;34m\u001b[0m\u001b[0m\n",
            "\u001b[0;32m/usr/local/lib/python3.11/dist-packages/sklearn/utils/parallel.py\u001b[0m in \u001b[0;36m__call__\u001b[0;34m(self, *args, **kwargs)\u001b[0m\n\u001b[1;32m    137\u001b[0m             \u001b[0mconfig\u001b[0m \u001b[0;34m=\u001b[0m \u001b[0;34m{\u001b[0m\u001b[0;34m}\u001b[0m\u001b[0;34m\u001b[0m\u001b[0;34m\u001b[0m\u001b[0m\n\u001b[1;32m    138\u001b[0m         \u001b[0;32mwith\u001b[0m \u001b[0mconfig_context\u001b[0m\u001b[0;34m(\u001b[0m\u001b[0;34m**\u001b[0m\u001b[0mconfig\u001b[0m\u001b[0;34m)\u001b[0m\u001b[0;34m:\u001b[0m\u001b[0;34m\u001b[0m\u001b[0;34m\u001b[0m\u001b[0m\n\u001b[0;32m--> 139\u001b[0;31m             \u001b[0;32mreturn\u001b[0m \u001b[0mself\u001b[0m\u001b[0;34m.\u001b[0m\u001b[0mfunction\u001b[0m\u001b[0;34m(\u001b[0m\u001b[0;34m*\u001b[0m\u001b[0margs\u001b[0m\u001b[0;34m,\u001b[0m \u001b[0;34m**\u001b[0m\u001b[0mkwargs\u001b[0m\u001b[0;34m)\u001b[0m\u001b[0;34m\u001b[0m\u001b[0;34m\u001b[0m\u001b[0m\n\u001b[0m\u001b[1;32m    140\u001b[0m \u001b[0;34m\u001b[0m\u001b[0m\n\u001b[1;32m    141\u001b[0m \u001b[0;34m\u001b[0m\u001b[0m\n",
            "\u001b[0;32m/usr/local/lib/python3.11/dist-packages/sklearn/ensemble/_base.py\u001b[0m in \u001b[0;36m_fit_single_estimator\u001b[0;34m(estimator, X, y, fit_params, message_clsname, message)\u001b[0m\n\u001b[1;32m     37\u001b[0m     \u001b[0;32melse\u001b[0m\u001b[0;34m:\u001b[0m\u001b[0;34m\u001b[0m\u001b[0;34m\u001b[0m\u001b[0m\n\u001b[1;32m     38\u001b[0m         \u001b[0;32mwith\u001b[0m \u001b[0m_print_elapsed_time\u001b[0m\u001b[0;34m(\u001b[0m\u001b[0mmessage_clsname\u001b[0m\u001b[0;34m,\u001b[0m \u001b[0mmessage\u001b[0m\u001b[0;34m)\u001b[0m\u001b[0;34m:\u001b[0m\u001b[0;34m\u001b[0m\u001b[0;34m\u001b[0m\u001b[0m\n\u001b[0;32m---> 39\u001b[0;31m             \u001b[0mestimator\u001b[0m\u001b[0;34m.\u001b[0m\u001b[0mfit\u001b[0m\u001b[0;34m(\u001b[0m\u001b[0mX\u001b[0m\u001b[0;34m,\u001b[0m \u001b[0my\u001b[0m\u001b[0;34m,\u001b[0m \u001b[0;34m**\u001b[0m\u001b[0mfit_params\u001b[0m\u001b[0;34m)\u001b[0m\u001b[0;34m\u001b[0m\u001b[0;34m\u001b[0m\u001b[0m\n\u001b[0m\u001b[1;32m     40\u001b[0m     \u001b[0;32mreturn\u001b[0m \u001b[0mestimator\u001b[0m\u001b[0;34m\u001b[0m\u001b[0;34m\u001b[0m\u001b[0m\n\u001b[1;32m     41\u001b[0m \u001b[0;34m\u001b[0m\u001b[0m\n",
            "\u001b[0;32m/usr/local/lib/python3.11/dist-packages/sklearn/base.py\u001b[0m in \u001b[0;36mwrapper\u001b[0;34m(estimator, *args, **kwargs)\u001b[0m\n\u001b[1;32m   1387\u001b[0m                 )\n\u001b[1;32m   1388\u001b[0m             ):\n\u001b[0;32m-> 1389\u001b[0;31m                 \u001b[0;32mreturn\u001b[0m \u001b[0mfit_method\u001b[0m\u001b[0;34m(\u001b[0m\u001b[0mestimator\u001b[0m\u001b[0;34m,\u001b[0m \u001b[0;34m*\u001b[0m\u001b[0margs\u001b[0m\u001b[0;34m,\u001b[0m \u001b[0;34m**\u001b[0m\u001b[0mkwargs\u001b[0m\u001b[0;34m)\u001b[0m\u001b[0;34m\u001b[0m\u001b[0;34m\u001b[0m\u001b[0m\n\u001b[0m\u001b[1;32m   1390\u001b[0m \u001b[0;34m\u001b[0m\u001b[0m\n\u001b[1;32m   1391\u001b[0m         \u001b[0;32mreturn\u001b[0m \u001b[0mwrapper\u001b[0m\u001b[0;34m\u001b[0m\u001b[0;34m\u001b[0m\u001b[0m\n",
            "\u001b[0;32m/usr/local/lib/python3.11/dist-packages/sklearn/ensemble/_forest.py\u001b[0m in \u001b[0;36mfit\u001b[0;34m(self, X, y, sample_weight)\u001b[0m\n\u001b[1;32m    485\u001b[0m             \u001b[0;31m# parallel_backend contexts set at a higher level,\u001b[0m\u001b[0;34m\u001b[0m\u001b[0;34m\u001b[0m\u001b[0m\n\u001b[1;32m    486\u001b[0m             \u001b[0;31m# since correctness does not rely on using threads.\u001b[0m\u001b[0;34m\u001b[0m\u001b[0;34m\u001b[0m\u001b[0m\n\u001b[0;32m--> 487\u001b[0;31m             trees = Parallel(\n\u001b[0m\u001b[1;32m    488\u001b[0m                 \u001b[0mn_jobs\u001b[0m\u001b[0;34m=\u001b[0m\u001b[0mself\u001b[0m\u001b[0;34m.\u001b[0m\u001b[0mn_jobs\u001b[0m\u001b[0;34m,\u001b[0m\u001b[0;34m\u001b[0m\u001b[0;34m\u001b[0m\u001b[0m\n\u001b[1;32m    489\u001b[0m                 \u001b[0mverbose\u001b[0m\u001b[0;34m=\u001b[0m\u001b[0mself\u001b[0m\u001b[0;34m.\u001b[0m\u001b[0mverbose\u001b[0m\u001b[0;34m,\u001b[0m\u001b[0;34m\u001b[0m\u001b[0;34m\u001b[0m\u001b[0m\n",
            "\u001b[0;32m/usr/local/lib/python3.11/dist-packages/sklearn/utils/parallel.py\u001b[0m in \u001b[0;36m__call__\u001b[0;34m(self, iterable)\u001b[0m\n\u001b[1;32m     75\u001b[0m             \u001b[0;32mfor\u001b[0m \u001b[0mdelayed_func\u001b[0m\u001b[0;34m,\u001b[0m \u001b[0margs\u001b[0m\u001b[0;34m,\u001b[0m \u001b[0mkwargs\u001b[0m \u001b[0;32min\u001b[0m \u001b[0miterable\u001b[0m\u001b[0;34m\u001b[0m\u001b[0;34m\u001b[0m\u001b[0m\n\u001b[1;32m     76\u001b[0m         )\n\u001b[0;32m---> 77\u001b[0;31m         \u001b[0;32mreturn\u001b[0m \u001b[0msuper\u001b[0m\u001b[0;34m(\u001b[0m\u001b[0;34m)\u001b[0m\u001b[0;34m.\u001b[0m\u001b[0m__call__\u001b[0m\u001b[0;34m(\u001b[0m\u001b[0miterable_with_config\u001b[0m\u001b[0;34m)\u001b[0m\u001b[0;34m\u001b[0m\u001b[0;34m\u001b[0m\u001b[0m\n\u001b[0m\u001b[1;32m     78\u001b[0m \u001b[0;34m\u001b[0m\u001b[0m\n\u001b[1;32m     79\u001b[0m \u001b[0;34m\u001b[0m\u001b[0m\n",
            "\u001b[0;32m/usr/local/lib/python3.11/dist-packages/joblib/parallel.py\u001b[0m in \u001b[0;36m__call__\u001b[0;34m(self, iterable)\u001b[0m\n\u001b[1;32m   1916\u001b[0m             \u001b[0moutput\u001b[0m \u001b[0;34m=\u001b[0m \u001b[0mself\u001b[0m\u001b[0;34m.\u001b[0m\u001b[0m_get_sequential_output\u001b[0m\u001b[0;34m(\u001b[0m\u001b[0miterable\u001b[0m\u001b[0;34m)\u001b[0m\u001b[0;34m\u001b[0m\u001b[0;34m\u001b[0m\u001b[0m\n\u001b[1;32m   1917\u001b[0m             \u001b[0mnext\u001b[0m\u001b[0;34m(\u001b[0m\u001b[0moutput\u001b[0m\u001b[0;34m)\u001b[0m\u001b[0;34m\u001b[0m\u001b[0;34m\u001b[0m\u001b[0m\n\u001b[0;32m-> 1918\u001b[0;31m             \u001b[0;32mreturn\u001b[0m \u001b[0moutput\u001b[0m \u001b[0;32mif\u001b[0m \u001b[0mself\u001b[0m\u001b[0;34m.\u001b[0m\u001b[0mreturn_generator\u001b[0m \u001b[0;32melse\u001b[0m \u001b[0mlist\u001b[0m\u001b[0;34m(\u001b[0m\u001b[0moutput\u001b[0m\u001b[0;34m)\u001b[0m\u001b[0;34m\u001b[0m\u001b[0;34m\u001b[0m\u001b[0m\n\u001b[0m\u001b[1;32m   1919\u001b[0m \u001b[0;34m\u001b[0m\u001b[0m\n\u001b[1;32m   1920\u001b[0m         \u001b[0;31m# Let's create an ID that uniquely identifies the current call. If the\u001b[0m\u001b[0;34m\u001b[0m\u001b[0;34m\u001b[0m\u001b[0m\n",
            "\u001b[0;32m/usr/local/lib/python3.11/dist-packages/joblib/parallel.py\u001b[0m in \u001b[0;36m_get_sequential_output\u001b[0;34m(self, iterable)\u001b[0m\n\u001b[1;32m   1845\u001b[0m                 \u001b[0mself\u001b[0m\u001b[0;34m.\u001b[0m\u001b[0mn_dispatched_batches\u001b[0m \u001b[0;34m+=\u001b[0m \u001b[0;36m1\u001b[0m\u001b[0;34m\u001b[0m\u001b[0;34m\u001b[0m\u001b[0m\n\u001b[1;32m   1846\u001b[0m                 \u001b[0mself\u001b[0m\u001b[0;34m.\u001b[0m\u001b[0mn_dispatched_tasks\u001b[0m \u001b[0;34m+=\u001b[0m \u001b[0;36m1\u001b[0m\u001b[0;34m\u001b[0m\u001b[0;34m\u001b[0m\u001b[0m\n\u001b[0;32m-> 1847\u001b[0;31m                 \u001b[0mres\u001b[0m \u001b[0;34m=\u001b[0m \u001b[0mfunc\u001b[0m\u001b[0;34m(\u001b[0m\u001b[0;34m*\u001b[0m\u001b[0margs\u001b[0m\u001b[0;34m,\u001b[0m \u001b[0;34m**\u001b[0m\u001b[0mkwargs\u001b[0m\u001b[0;34m)\u001b[0m\u001b[0;34m\u001b[0m\u001b[0;34m\u001b[0m\u001b[0m\n\u001b[0m\u001b[1;32m   1848\u001b[0m                 \u001b[0mself\u001b[0m\u001b[0;34m.\u001b[0m\u001b[0mn_completed_tasks\u001b[0m \u001b[0;34m+=\u001b[0m \u001b[0;36m1\u001b[0m\u001b[0;34m\u001b[0m\u001b[0;34m\u001b[0m\u001b[0m\n\u001b[1;32m   1849\u001b[0m                 \u001b[0mself\u001b[0m\u001b[0;34m.\u001b[0m\u001b[0mprint_progress\u001b[0m\u001b[0;34m(\u001b[0m\u001b[0;34m)\u001b[0m\u001b[0;34m\u001b[0m\u001b[0;34m\u001b[0m\u001b[0m\n",
            "\u001b[0;32m/usr/local/lib/python3.11/dist-packages/sklearn/utils/parallel.py\u001b[0m in \u001b[0;36m__call__\u001b[0;34m(self, *args, **kwargs)\u001b[0m\n\u001b[1;32m    137\u001b[0m             \u001b[0mconfig\u001b[0m \u001b[0;34m=\u001b[0m \u001b[0;34m{\u001b[0m\u001b[0;34m}\u001b[0m\u001b[0;34m\u001b[0m\u001b[0;34m\u001b[0m\u001b[0m\n\u001b[1;32m    138\u001b[0m         \u001b[0;32mwith\u001b[0m \u001b[0mconfig_context\u001b[0m\u001b[0;34m(\u001b[0m\u001b[0;34m**\u001b[0m\u001b[0mconfig\u001b[0m\u001b[0;34m)\u001b[0m\u001b[0;34m:\u001b[0m\u001b[0;34m\u001b[0m\u001b[0;34m\u001b[0m\u001b[0m\n\u001b[0;32m--> 139\u001b[0;31m             \u001b[0;32mreturn\u001b[0m \u001b[0mself\u001b[0m\u001b[0;34m.\u001b[0m\u001b[0mfunction\u001b[0m\u001b[0;34m(\u001b[0m\u001b[0;34m*\u001b[0m\u001b[0margs\u001b[0m\u001b[0;34m,\u001b[0m \u001b[0;34m**\u001b[0m\u001b[0mkwargs\u001b[0m\u001b[0;34m)\u001b[0m\u001b[0;34m\u001b[0m\u001b[0;34m\u001b[0m\u001b[0m\n\u001b[0m\u001b[1;32m    140\u001b[0m \u001b[0;34m\u001b[0m\u001b[0m\n\u001b[1;32m    141\u001b[0m \u001b[0;34m\u001b[0m\u001b[0m\n",
            "\u001b[0;32m/usr/local/lib/python3.11/dist-packages/sklearn/ensemble/_forest.py\u001b[0m in \u001b[0;36m_parallel_build_trees\u001b[0;34m(tree, bootstrap, X, y, sample_weight, tree_idx, n_trees, verbose, class_weight, n_samples_bootstrap, missing_values_in_feature_mask)\u001b[0m\n\u001b[1;32m    187\u001b[0m             \u001b[0mcurr_sample_weight\u001b[0m \u001b[0;34m*=\u001b[0m \u001b[0mcompute_sample_weight\u001b[0m\u001b[0;34m(\u001b[0m\u001b[0;34m\"balanced\"\u001b[0m\u001b[0;34m,\u001b[0m \u001b[0my\u001b[0m\u001b[0;34m,\u001b[0m \u001b[0mindices\u001b[0m\u001b[0;34m=\u001b[0m\u001b[0mindices\u001b[0m\u001b[0;34m)\u001b[0m\u001b[0;34m\u001b[0m\u001b[0;34m\u001b[0m\u001b[0m\n\u001b[1;32m    188\u001b[0m \u001b[0;34m\u001b[0m\u001b[0m\n\u001b[0;32m--> 189\u001b[0;31m         tree._fit(\n\u001b[0m\u001b[1;32m    190\u001b[0m             \u001b[0mX\u001b[0m\u001b[0;34m,\u001b[0m\u001b[0;34m\u001b[0m\u001b[0;34m\u001b[0m\u001b[0m\n\u001b[1;32m    191\u001b[0m             \u001b[0my\u001b[0m\u001b[0;34m,\u001b[0m\u001b[0;34m\u001b[0m\u001b[0;34m\u001b[0m\u001b[0m\n",
            "\u001b[0;32m/usr/local/lib/python3.11/dist-packages/sklearn/tree/_classes.py\u001b[0m in \u001b[0;36m_fit\u001b[0;34m(self, X, y, sample_weight, check_input, missing_values_in_feature_mask)\u001b[0m\n\u001b[1;32m    472\u001b[0m         \u001b[0mbuilder\u001b[0m\u001b[0;34m.\u001b[0m\u001b[0mbuild\u001b[0m\u001b[0;34m(\u001b[0m\u001b[0mself\u001b[0m\u001b[0;34m.\u001b[0m\u001b[0mtree_\u001b[0m\u001b[0;34m,\u001b[0m \u001b[0mX\u001b[0m\u001b[0;34m,\u001b[0m \u001b[0my\u001b[0m\u001b[0;34m,\u001b[0m \u001b[0msample_weight\u001b[0m\u001b[0;34m,\u001b[0m \u001b[0mmissing_values_in_feature_mask\u001b[0m\u001b[0;34m)\u001b[0m\u001b[0;34m\u001b[0m\u001b[0;34m\u001b[0m\u001b[0m\n\u001b[1;32m    473\u001b[0m \u001b[0;34m\u001b[0m\u001b[0m\n\u001b[0;32m--> 474\u001b[0;31m         \u001b[0;32mif\u001b[0m \u001b[0mself\u001b[0m\u001b[0;34m.\u001b[0m\u001b[0mn_outputs_\u001b[0m \u001b[0;34m==\u001b[0m \u001b[0;36m1\u001b[0m \u001b[0;32mand\u001b[0m \u001b[0mis_classifier\u001b[0m\u001b[0;34m(\u001b[0m\u001b[0mself\u001b[0m\u001b[0;34m)\u001b[0m\u001b[0;34m:\u001b[0m\u001b[0;34m\u001b[0m\u001b[0;34m\u001b[0m\u001b[0m\n\u001b[0m\u001b[1;32m    475\u001b[0m             \u001b[0mself\u001b[0m\u001b[0;34m.\u001b[0m\u001b[0mn_classes_\u001b[0m \u001b[0;34m=\u001b[0m \u001b[0mself\u001b[0m\u001b[0;34m.\u001b[0m\u001b[0mn_classes_\u001b[0m\u001b[0;34m[\u001b[0m\u001b[0;36m0\u001b[0m\u001b[0;34m]\u001b[0m\u001b[0;34m\u001b[0m\u001b[0;34m\u001b[0m\u001b[0m\n\u001b[1;32m    476\u001b[0m             \u001b[0mself\u001b[0m\u001b[0;34m.\u001b[0m\u001b[0mclasses_\u001b[0m \u001b[0;34m=\u001b[0m \u001b[0mself\u001b[0m\u001b[0;34m.\u001b[0m\u001b[0mclasses_\u001b[0m\u001b[0;34m[\u001b[0m\u001b[0;36m0\u001b[0m\u001b[0;34m]\u001b[0m\u001b[0;34m\u001b[0m\u001b[0;34m\u001b[0m\u001b[0m\n",
            "\u001b[0;32m/usr/local/lib/python3.11/dist-packages/sklearn/base.py\u001b[0m in \u001b[0;36mis_classifier\u001b[0;34m(estimator)\u001b[0m\n\u001b[1;32m   1235\u001b[0m         \u001b[0;32mreturn\u001b[0m \u001b[0mgetattr\u001b[0m\u001b[0;34m(\u001b[0m\u001b[0mestimator\u001b[0m\u001b[0;34m,\u001b[0m \u001b[0;34m\"_estimator_type\"\u001b[0m\u001b[0;34m,\u001b[0m \u001b[0;32mNone\u001b[0m\u001b[0;34m)\u001b[0m \u001b[0;34m==\u001b[0m \u001b[0;34m\"classifier\"\u001b[0m\u001b[0;34m\u001b[0m\u001b[0;34m\u001b[0m\u001b[0m\n\u001b[1;32m   1236\u001b[0m \u001b[0;34m\u001b[0m\u001b[0m\n\u001b[0;32m-> 1237\u001b[0;31m     \u001b[0;32mreturn\u001b[0m \u001b[0mget_tags\u001b[0m\u001b[0;34m(\u001b[0m\u001b[0mestimator\u001b[0m\u001b[0;34m)\u001b[0m\u001b[0;34m.\u001b[0m\u001b[0mestimator_type\u001b[0m \u001b[0;34m==\u001b[0m \u001b[0;34m\"classifier\"\u001b[0m\u001b[0;34m\u001b[0m\u001b[0;34m\u001b[0m\u001b[0m\n\u001b[0m\u001b[1;32m   1238\u001b[0m \u001b[0;34m\u001b[0m\u001b[0m\n\u001b[1;32m   1239\u001b[0m \u001b[0;34m\u001b[0m\u001b[0m\n",
            "\u001b[0;32m/usr/local/lib/python3.11/dist-packages/sklearn/utils/_tags.py\u001b[0m in \u001b[0;36mget_tags\u001b[0;34m(estimator)\u001b[0m\n\u001b[1;32m    396\u001b[0m         \u001b[0;31m# TODO(1.7): turn the warning into an error\u001b[0m\u001b[0;34m\u001b[0m\u001b[0;34m\u001b[0m\u001b[0m\n\u001b[1;32m    397\u001b[0m         \u001b[0;32mtry\u001b[0m\u001b[0;34m:\u001b[0m\u001b[0;34m\u001b[0m\u001b[0;34m\u001b[0m\u001b[0m\n\u001b[0;32m--> 398\u001b[0;31m             \u001b[0mtags\u001b[0m \u001b[0;34m=\u001b[0m \u001b[0mestimator\u001b[0m\u001b[0;34m.\u001b[0m\u001b[0m__sklearn_tags__\u001b[0m\u001b[0;34m(\u001b[0m\u001b[0;34m)\u001b[0m\u001b[0;34m\u001b[0m\u001b[0;34m\u001b[0m\u001b[0m\n\u001b[0m\u001b[1;32m    399\u001b[0m         \u001b[0;32mexcept\u001b[0m \u001b[0mAttributeError\u001b[0m \u001b[0;32mas\u001b[0m \u001b[0mexc\u001b[0m\u001b[0;34m:\u001b[0m\u001b[0;34m\u001b[0m\u001b[0;34m\u001b[0m\u001b[0m\n\u001b[1;32m    400\u001b[0m             \u001b[0;32mif\u001b[0m \u001b[0mstr\u001b[0m\u001b[0;34m(\u001b[0m\u001b[0mexc\u001b[0m\u001b[0;34m)\u001b[0m \u001b[0;34m==\u001b[0m \u001b[0;34m\"'super' object has no attribute '__sklearn_tags__'\"\u001b[0m\u001b[0;34m:\u001b[0m\u001b[0;34m\u001b[0m\u001b[0;34m\u001b[0m\u001b[0m\n",
            "\u001b[0;32m/usr/local/lib/python3.11/dist-packages/sklearn/tree/_classes.py\u001b[0m in \u001b[0;36m__sklearn_tags__\u001b[0;34m(self)\u001b[0m\n\u001b[1;32m   1096\u001b[0m \u001b[0;34m\u001b[0m\u001b[0m\n\u001b[1;32m   1097\u001b[0m     \u001b[0;32mdef\u001b[0m \u001b[0m__sklearn_tags__\u001b[0m\u001b[0;34m(\u001b[0m\u001b[0mself\u001b[0m\u001b[0;34m)\u001b[0m\u001b[0;34m:\u001b[0m\u001b[0;34m\u001b[0m\u001b[0;34m\u001b[0m\u001b[0m\n\u001b[0;32m-> 1098\u001b[0;31m         \u001b[0mtags\u001b[0m \u001b[0;34m=\u001b[0m \u001b[0msuper\u001b[0m\u001b[0;34m(\u001b[0m\u001b[0;34m)\u001b[0m\u001b[0;34m.\u001b[0m\u001b[0m__sklearn_tags__\u001b[0m\u001b[0;34m(\u001b[0m\u001b[0;34m)\u001b[0m\u001b[0;34m\u001b[0m\u001b[0;34m\u001b[0m\u001b[0m\n\u001b[0m\u001b[1;32m   1099\u001b[0m         \u001b[0;31m# XXX: nan is only support for dense arrays, but we set this for common test to\u001b[0m\u001b[0;34m\u001b[0m\u001b[0;34m\u001b[0m\u001b[0m\n\u001b[1;32m   1100\u001b[0m         \u001b[0;31m# pass, specifically: check_estimators_nan_inf\u001b[0m\u001b[0;34m\u001b[0m\u001b[0;34m\u001b[0m\u001b[0m\n",
            "\u001b[0;32m/usr/local/lib/python3.11/dist-packages/sklearn/base.py\u001b[0m in \u001b[0;36m__sklearn_tags__\u001b[0;34m(self)\u001b[0m\n\u001b[1;32m    538\u001b[0m \u001b[0;34m\u001b[0m\u001b[0m\n\u001b[1;32m    539\u001b[0m     \u001b[0;32mdef\u001b[0m \u001b[0m__sklearn_tags__\u001b[0m\u001b[0;34m(\u001b[0m\u001b[0mself\u001b[0m\u001b[0;34m)\u001b[0m\u001b[0;34m:\u001b[0m\u001b[0;34m\u001b[0m\u001b[0;34m\u001b[0m\u001b[0m\n\u001b[0;32m--> 540\u001b[0;31m         \u001b[0mtags\u001b[0m \u001b[0;34m=\u001b[0m \u001b[0msuper\u001b[0m\u001b[0;34m(\u001b[0m\u001b[0;34m)\u001b[0m\u001b[0;34m.\u001b[0m\u001b[0m__sklearn_tags__\u001b[0m\u001b[0;34m(\u001b[0m\u001b[0;34m)\u001b[0m\u001b[0;34m\u001b[0m\u001b[0;34m\u001b[0m\u001b[0m\n\u001b[0m\u001b[1;32m    541\u001b[0m         \u001b[0mtags\u001b[0m\u001b[0;34m.\u001b[0m\u001b[0mestimator_type\u001b[0m \u001b[0;34m=\u001b[0m \u001b[0;34m\"classifier\"\u001b[0m\u001b[0;34m\u001b[0m\u001b[0;34m\u001b[0m\u001b[0m\n\u001b[1;32m    542\u001b[0m         \u001b[0mtags\u001b[0m\u001b[0;34m.\u001b[0m\u001b[0mclassifier_tags\u001b[0m \u001b[0;34m=\u001b[0m \u001b[0mClassifierTags\u001b[0m\u001b[0;34m(\u001b[0m\u001b[0;34m)\u001b[0m\u001b[0;34m\u001b[0m\u001b[0;34m\u001b[0m\u001b[0m\n",
            "\u001b[0;32m/usr/local/lib/python3.11/dist-packages/sklearn/tree/_classes.py\u001b[0m in \u001b[0;36m__sklearn_tags__\u001b[0;34m(self)\u001b[0m\n\u001b[1;32m    691\u001b[0m         \u001b[0;32mreturn\u001b[0m \u001b[0mself\u001b[0m\u001b[0;34m.\u001b[0m\u001b[0mtree_\u001b[0m\u001b[0;34m.\u001b[0m\u001b[0mcompute_feature_importances\u001b[0m\u001b[0;34m(\u001b[0m\u001b[0;34m)\u001b[0m\u001b[0;34m\u001b[0m\u001b[0;34m\u001b[0m\u001b[0m\n\u001b[1;32m    692\u001b[0m \u001b[0;34m\u001b[0m\u001b[0m\n\u001b[0;32m--> 693\u001b[0;31m     \u001b[0;32mdef\u001b[0m \u001b[0m__sklearn_tags__\u001b[0m\u001b[0;34m(\u001b[0m\u001b[0mself\u001b[0m\u001b[0;34m)\u001b[0m\u001b[0;34m:\u001b[0m\u001b[0;34m\u001b[0m\u001b[0;34m\u001b[0m\u001b[0m\n\u001b[0m\u001b[1;32m    694\u001b[0m         \u001b[0mtags\u001b[0m \u001b[0;34m=\u001b[0m \u001b[0msuper\u001b[0m\u001b[0;34m(\u001b[0m\u001b[0;34m)\u001b[0m\u001b[0;34m.\u001b[0m\u001b[0m__sklearn_tags__\u001b[0m\u001b[0;34m(\u001b[0m\u001b[0;34m)\u001b[0m\u001b[0;34m\u001b[0m\u001b[0;34m\u001b[0m\u001b[0m\n\u001b[1;32m    695\u001b[0m         \u001b[0mtags\u001b[0m\u001b[0;34m.\u001b[0m\u001b[0minput_tags\u001b[0m\u001b[0;34m.\u001b[0m\u001b[0msparse\u001b[0m \u001b[0;34m=\u001b[0m \u001b[0;32mTrue\u001b[0m\u001b[0;34m\u001b[0m\u001b[0;34m\u001b[0m\u001b[0m\n",
            "\u001b[0;31mKeyboardInterrupt\u001b[0m: "
          ]
        }
      ],
      "source": [
        "ESTIMATORS = [\n",
        "    MODELS[\"LogReg\"],\n",
        "    MODELS[\"KNN\"],\n",
        "    MODELS[\"DT\"],\n",
        "    MODELS[\"SVC\"],\n",
        "    MODELS[\"RF\"],\n",
        "    MODELS[\"PAC\"],\n",
        "\n",
        "]\n",
        "final_estimator_search(ESTIMATORS)\n",
        "\n"
      ]
    },
    {
      "cell_type": "code",
      "execution_count": null,
      "metadata": {
        "colab": {
          "base_uri": "https://localhost:8080/",
          "height": 745
        },
        "id": "zl8Y_MzauDU3",
        "outputId": "cf987c09-56a7-44a4-d94a-7986b3fd4b6f"
      },
      "outputs": [
        {
          "name": "stdout",
          "output_type": "stream",
          "text": [
            "Results for Gradient Boosting\n",
            "Accuracy: 0.8358078602620087\n",
            "Precision: 0.7839195979899497\n",
            "Recall: 0.5182724252491694\n",
            "F1 Score: 0.624\n",
            "\n",
            "Results for Gradient Boosting with sigmoid calibration\n",
            "Accuracy: 0.8296943231441049\n",
            "Precision: 0.7944444444444444\n",
            "Recall: 0.4750830564784053\n",
            "F1 Score: 0.5945945945945946\n",
            "\n",
            "Results for Gradient Boosting with isotonic calibration\n",
            "Accuracy: 0.8235807860262009\n",
            "Precision: 0.7704918032786885\n",
            "Recall: 0.4684385382059801\n",
            "F1 Score: 0.5826446280991735\n",
            "\n"
          ]
        },
        {
          "data": {
            "image/png": "[encoded data removed]",
            "text/plain": [
              "<Figure size 640x480 with 1 Axes>"
            ]
          },
          "metadata": {},
          "output_type": "display_data"
        }
      ],
      "source": [
        "from sklearn.ensemble import GradientBoostingClassifier\n",
        "\n",
        "gradient_boosting = BaseLearner(\"Gradient Boosting\", GradientBoostingClassifier(), train_features, test_features, train_labels, test_labels)\n",
        "\n",
        "print(gradient_boosting.run_and_score())\n",
        "\n",
        "print(BaseLearner(\"Gradient Boosting\", GradientBoostingClassifier() , train_features, test_features, train_labels, test_labels, calibrated_method=\"sigmoid\").run_and_score())\n",
        "\n",
        "print(BaseLearner(\"Gradient Boosting\", GradientBoostingClassifier(), train_features, test_features, train_labels, test_labels, calibrated_method=\"isotonic\").run_and_score())\n",
        "\n",
        "gradient_boosting.display_reliability(n_bins=15)"
      ]
    },
    {
      "cell_type": "markdown",
      "metadata": {
        "id": "kRn7oNZExib-"
      },
      "source": [
        "# Abstract notes\n",
        "\n",
        "TLDR: We are running stacking instead of a soft-voting classifier. This allows us to be more expressive in how we combine the models\n",
        "We would like to have a larger Recall score. Accuracy metric is a misnomer, focus on boosting recall and F1 score. Using final estimator"
      ]
    },
    {
      "cell_type": "markdown",
      "metadata": {
        "id": "NdLZ0Oy2M0N9"
      },
      "source": [
        "## Exploratory results\n",
        "\n",
        "Final Estimator: \\\n",
        "Best Recall: LogReg / RF = 53.8% \\\n",
        "Best F1 Score: LogReg = 62.43% \\\n",
        "\n",
        "Suprise after calibration:  \\\n",
        "SVC (isotonic) Recall = 55.1% \\\n",
        "SVC (isotonic) F1 Score = 62.41%"
      ]
    },
    {
      "cell_type": "markdown",
      "metadata": {
        "id": "DAM0HuAzu6CX"
      },
      "source": [
        "# Calibration\n",
        "\n",
        "The main point of calibration is that these \"percentages\" can then be interpreted better. So that if we have a 80% prediction of rain it actually means it is 80% confident of there being rain, so 4 out of 5 days it would rain with that prediction\n",
        "\n",
        "Below perfect line means model predictions are overconfident, and calibration will trade off some recall to improve precision.\n",
        "\n",
        "Above perfect line means model predictions are underconfident, and calibration will trade off some precision to improve recall"
      ]
    },
    {
      "cell_type": "markdown",
      "metadata": {},
      "source": [
        "## Angular Calibration\n",
        "\n",
        "\n",
        "Angular calibration as we’ve implemented it really is only meaningful for linear classifiers of the form\n",
        "Σ(w^⊤ x)\n",
        "because it needs access to: \\\n",
        "\t1.\tA coefficient vector w (your coef_) \\\n",
        "\t2.\tA Gaussian‐design assumption (so you can estimate \\|w\\|_\\Sigma and the angle)\n",
        "\n",
        "Tree‑based methods (DecisionTree, RandomForest) or kNN don’t expose a global w, so there’s no angle to compute.\n",
        "\n"
      ]
    },
    {
      "cell_type": "code",
      "execution_count": null,
      "metadata": {
        "id": "DPExGgHysmhO"
      },
      "outputs": [],
      "source": [
        "\"\"\"\n",
        "Angular calibration implementation and BaseLearner integration.\n",
        "\"\"\"\n",
        "import numpy as np\n",
        "from numpy.polynomial.hermite import hermgauss\n",
        "from scipy.special import expit\n",
        "\n",
        "from sklearn.base import BaseEstimator, ClassifierMixin, MetaEstimatorMixin\n",
        "\n",
        "\n",
        "class AngularCalibrator(ClassifierMixin,  MetaEstimatorMixin, BaseEstimator):\n",
        "    \"\"\"\n",
        "    Angular calibration for binary classifiers.\n",
        "    Implements get_params/set_params via BaseEstimator.\n",
        "    Interface matches sklearn CalibratedClassifierCV: fit, predict_proba, predict.\n",
        "    \"\"\"\n",
        "    _estimator_type = \"classifier\"\n",
        "    def __init__(self, estimator=None,*, Sigma=None, lam=None, n_quadrature=20):\n",
        "\n",
        "        self.estimator = estimator\n",
        "        self.Sigma = Sigma\n",
        "        self.lam = lam\n",
        "        self.n_quadrature = n_quadrature\n",
        "\n",
        "    def fit(self, X_train, y_train, X_sign=None, y_sign=None):\n",
        "        self.estimator.fit(X_train, y_train)\n",
        "        # extract model coefficients\n",
        "        self.w_hat = self.estimator.coef_.ravel()\n",
        "        # covariance\n",
        "        if self.Sigma is None:\n",
        "            self.Sigma = np.cov(X_train, rowvar=False)\n",
        "        # norm under Sigma\n",
        "        self.norm_w = np.sqrt(self.w_hat.T @ self.Sigma @ self.w_hat)\n",
        "        n, d = X_train.shape\n",
        "        # regularization\n",
        "        if self.lam is None:\n",
        "            if hasattr(self.estimator, 'C'):\n",
        "                self.lam = 1.0 / self.estimator.C\n",
        "            else:\n",
        "                raise ValueError(\"Regularization lam must be provided or estimator.C available.\")\n",
        "        # decision values and derivatives\n",
        "        u = X_train @ self.w_hat\n",
        "        p = expit(u)\n",
        "        psi = p - y_train\n",
        "        D = p * (1 - p)\n",
        "        # compute H\n",
        "        DX = X_train * D[:, None]\n",
        "        H_inv = X_train.T @ DX + n * self.lam * np.eye(d)\n",
        "        H = np.linalg.inv(H_inv)\n",
        "        v = np.trace(np.diag(D) - DX @ H @ DX.T) / n\n",
        "        gamma = np.trace(X_train @ H @ DX.T)\n",
        "        r = np.linalg.norm(psi) / np.sqrt(n)\n",
        "        A = X_train @ self.w_hat - gamma * psi\n",
        "        # a_hat^2\n",
        "        num = (v * np.linalg.norm(A) + psi @ A / n)**2\n",
        "        denom = (np.linalg.norm(X_train.T @ psi)**2 / n**2 +\n",
        "                 2*v*(psi @ X_train @ self.w_hat)/n +\n",
        "                 v**2 * np.linalg.norm(A)**2 -\n",
        "                 (d/n)*r**2)\n",
        "        a2 = num / denom\n",
        "        a_hat = np.sqrt(max(a2, 0.0))\n",
        "        # sign estimation\n",
        "        sign = 1\n",
        "        if X_sign is not None and y_sign is not None:\n",
        "            s = np.sum((X_sign @ self.w_hat) * y_sign)\n",
        "            sign = 1 if s >= 0 else -1\n",
        "        # compute cos/sin theta\n",
        "        cos_theta = sign * (a_hat / self.norm_w)\n",
        "        self.cos_theta = np.clip(cos_theta, -1.0, 1.0)\n",
        "        self.sin_theta = np.sqrt(1 - self.cos_theta**2)\n",
        "        # prepare quadrature\n",
        "        nodes, weights = hermgauss(self.n_quadrature)\n",
        "        self.gh_x = nodes * np.sqrt(2)\n",
        "        self.gh_w = weights / np.sqrt(np.pi)\n",
        "        return self\n",
        "\n",
        "    def predict_proba(self, X):\n",
        "        # raw decision values\n",
        "        if hasattr(self.estimator, 'decision_function'):\n",
        "            u = self.estimator.decision_function(X)\n",
        "        else:\n",
        "            u = X @ self.w_hat\n",
        "        # normalize\n",
        "        u = u / self.norm_w\n",
        "        # Gauss-Hermite integration\n",
        "        p = []\n",
        "        for ui in u:\n",
        "            vals = expit(self.cos_theta * ui + self.sin_theta * self.gh_x)\n",
        "            p.append(np.dot(self.gh_w, vals))\n",
        "        p = np.array(p)\n",
        "        return np.vstack([1 - p, p]).T\n",
        "\n",
        "    def predict(self, X):\n",
        "        proba = self.predict_proba(X)[:,1]\n",
        "        return (proba >= 0.5).astype(int)"
      ]
    },
    {
      "cell_type": "code",
      "execution_count": null,
      "metadata": {
        "id": "9OAgFhPSNQ7L"
      },
      "outputs": [],
      "source": [
        "for name in OG_MODELS.keys():\n",
        "  BaseLearner(name, OG_MODELS[name], train_features, test_features, train_labels, test_labels).display_reliability(n_bins=25)"
      ]
    },
    {
      "cell_type": "code",
      "execution_count": null,
      "metadata": {
        "id": "dk0nVuLLQHbT"
      },
      "outputs": [],
      "source": []
    }
  ],
  "metadata": {
    "accelerator": "GPU",
    "colab": {
      "gpuType": "T4",
      "provenance": []
    },
    "kernelspec": {
      "display_name": "Python 3",
      "name": "python3"
    },
    "language_info": {
      "name": "python"
    }
  },
  "nbformat": 4,
  "nbformat_minor": 0
}
